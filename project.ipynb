{
 "cells": [
  {
   "cell_type": "markdown",
   "metadata": {},
   "source": [
    "## Data Processing\n",
    "The first thing to do after understanding the problem statement is to observe the overall shape of the data. Let's begin by first looking at the distribution of labels. \n",
    "\n",
    "We will not be using the is_tma for now as there are no thumbnail images for those. "
   ]
  },
  {
   "cell_type": "code",
   "execution_count": 76,
   "metadata": {},
   "outputs": [],
   "source": [
    "import pandas as pd\n",
    "\n",
    "train = pd.read_csv(\"./data/train.csv\")\n",
    "\n",
    "# remove all is_tma, as there are no thumbnail images that aren't that \n",
    "train = train[~train[\"is_tma\"]]"
   ]
  },
  {
   "cell_type": "code",
   "execution_count": 77,
   "metadata": {},
   "outputs": [
    {
     "data": {
      "image/png": "[encoded data removed]",
      "text/plain": [
       "<Figure size 640x480 with 1 Axes>"
      ]
     },
     "metadata": {},
     "output_type": "display_data"
    }
   ],
   "source": [
    "# Plot out the label distribution\n",
    "import matplotlib.pyplot as plt\n",
    "\n",
    "label_counts = train[\"label\"].value_counts()\n",
    "labels, counts = label_counts.index, label_counts.values\n",
    "\n",
    "plt.bar(labels, counts)\n",
    "plt.xlabel(\"Labels\")\n",
    "plt.ylabel(\"Count\")\n",
    "plt.title(\"Class Distribution\")\n",
    "plt.show();"
   ]
  },
  {
   "cell_type": "markdown",
   "metadata": {},
   "source": [
    "Clearly, there is a imbalance of the different classes, with HGSC being the most common type. "
   ]
  },
  {
   "cell_type": "markdown",
   "metadata": {},
   "source": [
    "Let's also load the data up."
   ]
  },
  {
   "cell_type": "code",
   "execution_count": 78,
   "metadata": {},
   "outputs": [],
   "source": [
    "import numpy as np\n",
    "import torch\n",
    "\n",
    "np.random.seed(1234)\n",
    "torch.manual_seed(1234);"
   ]
  },
  {
   "cell_type": "code",
   "execution_count": 79,
   "metadata": {},
   "outputs": [],
   "source": [
    "import cv2\n",
    "from sklearn.model_selection import train_test_split\n",
    "np.random.RandomState()\n",
    "\n",
    "img_ids = train[\"image_id\"]\n",
    "labels = train[\"label\"]\n",
    "\n",
    "X = []\n",
    "y = []\n",
    "\n",
    "for img_id, label in zip(img_ids, labels):\n",
    "    img_path = \"./small_data/\" + str(img_id) + \"_thumbnail.png\" # change if using differnt data\n",
    "    img = cv2.imread(img_path)\n",
    "\n",
    "    X.append(img)\n",
    "    y.append(label)\n",
    "\n",
    "X = np.array(X)\n",
    "y = np.array(y)"
   ]
  },
  {
   "cell_type": "markdown",
   "metadata": {},
   "source": [
    "Let's first encode the labels (which are currently strings) somehow, so let's also do that."
   ]
  },
  {
   "cell_type": "code",
   "execution_count": 80,
   "metadata": {},
   "outputs": [],
   "source": [
    "from sklearn.preprocessing import LabelEncoder\n",
    "\n",
    "label_encoder = LabelEncoder()\n",
    "\n",
    "y_encoded = label_encoder.fit_transform(y)"
   ]
  },
  {
   "cell_type": "markdown",
   "metadata": {},
   "source": [
    "Create the training and validation split."
   ]
  },
  {
   "cell_type": "code",
   "execution_count": 81,
   "metadata": {},
   "outputs": [],
   "source": [
    "X_tr, X_val, y_tr, y_val = train_test_split(X, y_encoded, test_size=0.2, stratify=y, random_state=1234) # stratified"
   ]
  },
  {
   "cell_type": "markdown",
   "metadata": {},
   "source": [
    "Now let's find the appropriate weight for each class"
   ]
  },
  {
   "cell_type": "code",
   "execution_count": 82,
   "metadata": {},
   "outputs": [],
   "source": [
    "from sklearn.utils.class_weight import compute_class_weight\n",
    "from torch.utils.data import WeightedRandomSampler\n",
    "\n",
    "# Calculate class weights\n",
    "class_weights = compute_class_weight(class_weight='balanced', classes=np.unique(y_encoded), y=y_encoded)\n",
    "\n",
    "# Create a WeightedRandomSampler to use in model\n",
    "weights = torch.DoubleTensor([class_weights[label] for label in y_encoded])\n",
    "sampler = WeightedRandomSampler(torch.DoubleTensor(class_weights), len(y_encoded), replacement=True)"
   ]
  },
  {
   "cell_type": "markdown",
   "metadata": {},
   "source": [
    "Now we're ready for our simple model. First, let's define a very basic efficient-net model to quickly train and evalute the effectiveness of the data processing."
   ]
  },
  {
   "cell_type": "code",
   "execution_count": 83,
   "metadata": {},
   "outputs": [],
   "source": [
    "import torch.nn as nn\n",
    "import torch.optim as optim\n",
    "import timm\n",
    "\n",
    "model_0_name = \"efficientnet_b0\"\n",
    "\n",
    "num_classes = 5\n",
    "model_0 = timm.create_model(model_0_name, pretrained=False, num_classes=num_classes)\n",
    "\n",
    "# loss func + optimizer\n",
    "criterion = nn.CrossEntropyLoss(weight=torch.FloatTensor(class_weights))\n",
    "optimizer = optim.Adam(model_0.parameters(), lr=0.001)"
   ]
  },
  {
   "cell_type": "markdown",
   "metadata": {},
   "source": [
    "Let's begin by training the first model, ```model_0```, with no image processing and evalute its results."
   ]
  },
  {
   "cell_type": "code",
   "execution_count": 84,
   "metadata": {},
   "outputs": [
    {
     "name": "stdout",
     "output_type": "stream",
     "text": [
      "Epoch 1/5, Loss: 0.5527949051157681\n",
      "Epoch 2/5, Loss: 0.0008998790719274172\n",
      "Epoch 3/5, Loss: 2.717398628620712\n",
      "Epoch 4/5, Loss: 0.5818653579828542\n",
      "Epoch 5/5, Loss: 1.1416643186226685\n",
      "Validation Accuracy: 18.4466%\n",
      "Training Complete.\n"
     ]
    }
   ],
   "source": [
    "from torch.utils.data import DataLoader, TensorDataset\n",
    "\n",
    "# bootstrap up\n",
    "num_bootstrap_samples = 512 # to see runtimes 64, took roughly 12s per epoch, total 5 min\n",
    "\n",
    "\n",
    "# initialize lists to store bootstrapped data\n",
    "random_indexes= np.random.randint(0, len(X_tr), size=num_bootstrap_samples)\n",
    "X_b_tr = X_tr[random_indexes]\n",
    "y_b_tr = y_encoded[random_indexes]\n",
    "\n",
    "train_dataset = TensorDataset(torch.tensor(X_b_tr.astype(np.float32) / 255), torch.tensor(y_b_tr))\n",
    "val_dataset = TensorDataset(torch.tensor(X_val.astype(np.float32) / 255), torch.tensor(y_val))\n",
    "\n",
    "train_loader = DataLoader(train_dataset, batch_size=32, sampler=sampler)\n",
    "val_loader = DataLoader(val_dataset, batch_size=32, shuffle=True)\n",
    "\n",
    "# store validation accuracies for later\n",
    "val_accuracies = []\n",
    "\n",
    "# training loop\n",
    "num_epochs = 5\n",
    "for epoch in range(num_epochs):\n",
    "    model_0.train()\n",
    "    running_loss = 0.0\n",
    "\n",
    "    for batch_imgs, batch_labels in train_loader:\n",
    "        optimizer.zero_grad()\n",
    "        batch_imgs = batch_imgs.permute(0, 3, 1, 2)  # permute dimensions for PyTorch (B, H, W, C) -> (B, C, H, W)\n",
    "        outputs = model_0(batch_imgs)\n",
    "        loss = criterion(outputs, batch_labels)\n",
    "        loss.backward()\n",
    "        optimizer.step()\n",
    "        running_loss += loss.item()\n",
    "\n",
    "    print(f\"Epoch {epoch + 1}/{num_epochs}, Loss: {running_loss / len(train_loader)}\")\n",
    "\n",
    "# validation loop\n",
    "model_0.eval()\n",
    "correct = 0\n",
    "total = 0\n",
    "\n",
    "with torch.no_grad():\n",
    "    for imgs, labels in val_loader:\n",
    "        imgs = imgs.permute(0, 3, 1, 2) # permute dimensions\n",
    "        outputs = model_0(imgs)\n",
    "        _, predicted = torch.max(outputs, 1)\n",
    "        total += labels.size(0)\n",
    "        correct += (predicted == labels).sum().item()\n",
    "\n",
    "# calc val acc\n",
    "val_acc = 100 * (correct / total)\n",
    "val_accuracies.append(val_acc)\n",
    "\n",
    "print(f\"Validation Accuracy: {correct}/{total}, {val_acc:.4f}%\")\n",
    "\n",
    "print(\"Training Complete.\")"
   ]
  },
  {
   "cell_type": "markdown",
   "metadata": {},
   "source": [
    "Now let's create model that grayscales the images."
   ]
  },
  {
   "cell_type": "code",
   "execution_count": 85,
   "metadata": {},
   "outputs": [],
   "source": [
    "model_gray_name = \"efficientnet_b0\"\n",
    "\n",
    "num_classes = 5\n",
    "model_gray = timm.create_model(model_gray_name, pretrained=False, num_classes=num_classes, in_chans=1)\n",
    "\n",
    "# loss func + optimizer\n",
    "criterion = nn.CrossEntropyLoss(weight=torch.FloatTensor(class_weights))\n",
    "optimizer = optim.Adam(model_gray.parameters(), lr=0.001)"
   ]
  },
  {
   "cell_type": "code",
   "execution_count": 86,
   "metadata": {},
   "outputs": [
    {
     "name": "stdout",
     "output_type": "stream",
     "text": [
      "Epoch 1/5, Loss: 0.2792864124524332\n",
      "Epoch 2/5, Loss: 0.005419871419623151\n",
      "Epoch 3/5, Loss: 0.00017728224173746096\n",
      "Epoch 4/5, Loss: 0.0032510059083618362\n",
      "Epoch 5/5, Loss: 7.210852251576478e-05\n",
      "Validation Accuracy: 24.2718%\n",
      "Training Complete.\n"
     ]
    }
   ],
   "source": [
    "# Initialize lists to store bootstrapped data\n",
    "random_indexes= np.random.randint(0, len(X_tr), size=num_bootstrap_samples)\n",
    "X_b_tr = X_tr[random_indexes]\n",
    "y_b_tr = y_encoded[random_indexes]\n",
    "\n",
    "# convert bootstrapped data to grayscale\n",
    "X_b_tr = [cv2.cvtColor(img, cv2.COLOR_BGR2GRAY) for img in X_b_tr]\n",
    "X_b_tr = np.array(X_b_tr)  # Shape should be (num_samples, height, width)\n",
    "\n",
    "# convert validation data to grayscale as well\n",
    "X_val_gray = [cv2.cvtColor(img, cv2.COLOR_BGR2GRAY) for img in X_val]\n",
    "X_val_gray = np.array(X_val_gray)  # Shape should be (num_samples, height, width)\n",
    "\n",
    "X_b_tr = X_b_tr[:, np.newaxis, :, :]\n",
    "X_val_gray = X_val_gray[:, np.newaxis, :, :]\n",
    "\n",
    "train_dataset = TensorDataset(torch.tensor(X_b_tr.astype(np.float32) / 255), torch.tensor(y_b_tr))\n",
    "val_dataset = TensorDataset(torch.tensor(X_val_gray.astype(np.float32) / 255), torch.tensor(y_val))\n",
    "\n",
    "train_loader = DataLoader(train_dataset, batch_size=32, sampler=sampler)\n",
    "val_loader = DataLoader(val_dataset, batch_size=32, shuffle=True)\n",
    "\n",
    "# Training loop\n",
    "num_epochs = 5\n",
    "for epoch in range(num_epochs):\n",
    "    model_gray.train()\n",
    "    running_loss = 0.0\n",
    "\n",
    "    for batch_imgs, batch_labels in train_loader:\n",
    "        optimizer.zero_grad()\n",
    "        outputs = model_gray(batch_imgs)\n",
    "        loss = criterion(outputs, batch_labels)\n",
    "        loss.backward()\n",
    "        optimizer.step()\n",
    "        running_loss += loss.item()\n",
    "\n",
    "    print(f\"Epoch {epoch + 1}/{num_epochs}, Loss: {running_loss / len(train_loader)}\")\n",
    "\n",
    "# Validation loop\n",
    "model_gray.eval()\n",
    "correct = 0\n",
    "total = 0\n",
    "\n",
    "with torch.no_grad():\n",
    "    for imgs, labels in val_loader:\n",
    "        outputs = model_gray(imgs)\n",
    "        _, predicted = torch.max(outputs, 1)\n",
    "        total += labels.size(0)\n",
    "        correct += (predicted == labels).sum().item()\n",
    "\n",
    "# Calculate validation accuracy\n",
    "val_acc = 100 * (correct / total)\n",
    "val_accuracies.append(val_acc)\n",
    "\n",
    "print(f\"Validation Accuracy: {correct}/{total}, {val_acc:.4f}%\")\n",
    "\n",
    "print(\"Training Complete.\")\n"
   ]
  },
  {
   "cell_type": "markdown",
   "metadata": {},
   "source": [
    "It seems as though turning the image to grayscale does not affect the overall results that much. Let's try randomly applying transformations on the training data and seeing what may happen. "
   ]
  },
  {
   "cell_type": "code",
   "execution_count": 87,
   "metadata": {},
   "outputs": [],
   "source": [
    "model_transform_name = \"efficientnet_b0\"\n",
    "\n",
    "num_classes = 5\n",
    "model_transform = timm.create_model(model_transform_name, pretrained=False, num_classes=num_classes, in_chans=1)\n",
    "\n",
    "# loss func + optimizer\n",
    "criterion = nn.CrossEntropyLoss(weight=torch.FloatTensor(class_weights))\n",
    "optimizer = optim.Adam(model_transform.parameters(), lr=0.001)"
   ]
  },
  {
   "cell_type": "code",
   "execution_count": 88,
   "metadata": {},
   "outputs": [
    {
     "name": "stdout",
     "output_type": "stream",
     "text": [
      "Epoch 1/5, Loss: 0.23441259404463016\n",
      "Epoch 2/5, Loss: 0.22807243878587846\n",
      "Epoch 3/5, Loss: 0.032316117558843706\n",
      "Epoch 4/5, Loss: 0.115117625146267\n",
      "Epoch 5/5, Loss: 0.0040274684033146085\n",
      "Validation Accuracy: 42.7184%\n",
      "Training Complete.\n"
     ]
    }
   ],
   "source": [
    "from PIL import Image\n",
    "from torchvision import transforms\n",
    "\n",
    "# Initialize lists to store bootstrapped data\n",
    "random_indexes= np.random.randint(0, len(X_tr), size=num_bootstrap_samples)\n",
    "X_b_tr = X_tr[random_indexes]\n",
    "y_b_tr = y_encoded[random_indexes]\n",
    "\n",
    "# convert bootstrapped data to grayscale\n",
    "X_b_tr = [cv2.cvtColor(img, cv2.COLOR_BGR2GRAY) for img in X_b_tr]\n",
    "\n",
    "# apply transofmations\n",
    "data_transforms = transforms.Compose([\n",
    "    transforms.RandomHorizontalFlip(),  # Randomly flip horizontally\n",
    "    transforms.RandomVerticalFlip(),    # Randomly flip vertically\n",
    "    transforms.RandomRotation(360),      # Randomly rotate anywhere\n",
    "    transforms.ToTensor(),              # Convert to tensor\n",
    "])\n",
    "\n",
    "transformed_data = []\n",
    "for img in X_b_tr:\n",
    "    # Convert the image from OpenCV format to PIL format\n",
    "    pil_img = Image.fromarray(img)\n",
    "    \n",
    "    # Apply the transformations\n",
    "    transformed_img = data_transforms(pil_img)\n",
    "    \n",
    "    # Convert the transformed image back to NumPy format\n",
    "    transformed_img = np.array(transformed_img)\n",
    "    \n",
    "    transformed_data.append(transformed_img)\n",
    "\n",
    "X_b_tr = np.array(transformed_data)\n",
    "\n",
    "X_b_tr = np.array(X_b_tr)  # Shape should be (num_samples, height, width)\n",
    "\n",
    "# convert validation data to grayscale as well\n",
    "X_val_gray = [cv2.cvtColor(img, cv2.COLOR_BGR2GRAY) for img in X_val]\n",
    "X_val_gray = np.array(X_val_gray)  # Shape should be (num_samples, height, width)\n",
    "\n",
    "# X_b_tr = X_b_tr[:, np.newaxis, :, :]\n",
    "# print(X_b_tr.shape)\n",
    "X_val_gray = X_val_gray[:, np.newaxis, :, :]\n",
    "\n",
    "train_dataset = TensorDataset(torch.tensor(X_b_tr.astype(np.float32) / 255), torch.tensor(y_b_tr))\n",
    "val_dataset = TensorDataset(torch.tensor(X_val_gray.astype(np.float32) / 255), torch.tensor(y_val))\n",
    "\n",
    "train_loader = DataLoader(train_dataset, batch_size=32, sampler=sampler)\n",
    "val_loader = DataLoader(val_dataset, batch_size=32, shuffle=True)\n",
    "\n",
    "# Training loop\n",
    "num_epochs = 5\n",
    "for epoch in range(num_epochs):\n",
    "    model_transform.train()\n",
    "    running_loss = 0.0\n",
    "\n",
    "    for batch_imgs, batch_labels in train_loader:\n",
    "        optimizer.zero_grad()\n",
    "        outputs = model_transform(batch_imgs)\n",
    "        loss = criterion(outputs, batch_labels)\n",
    "        loss.backward()\n",
    "        optimizer.step()\n",
    "        running_loss += loss.item()\n",
    "\n",
    "    print(f\"Epoch {epoch + 1}/{num_epochs}, Loss: {running_loss / len(train_loader)}\")\n",
    "\n",
    "# Validation loop\n",
    "model_transform.eval()\n",
    "correct = 0\n",
    "total = 0\n",
    "\n",
    "with torch.no_grad():\n",
    "    for imgs, labels in val_loader:\n",
    "        outputs = model_transform(imgs)\n",
    "        _, predicted = torch.max(outputs, 1)\n",
    "        total += labels.size(0)\n",
    "        correct += (predicted == labels).sum().item()\n",
    "\n",
    "# Calculate validation accuracy\n",
    "val_acc = 100 * (correct / total)\n",
    "val_accuracies.append(val_acc)\n",
    "\n",
    "print(f\"Validation Accuracy: {correct}/{total}, {val_acc:.4f}%\")\n",
    "\n",
    "print(\"Training Complete.\")\n"
   ]
  },
  {
   "cell_type": "code",
   "execution_count": 89,
   "metadata": {},
   "outputs": [
    {
     "data": {
      "text/plain": [
       "[18.446601941747574, 24.271844660194176, 42.71844660194174]"
      ]
     },
     "execution_count": 89,
     "metadata": {},
     "output_type": "execute_result"
    }
   ],
   "source": [
    "val_accuracies"
   ]
  },
  {
   "cell_type": "markdown",
   "metadata": {},
   "source": [
    "graph of the different models and their validation accuracies"
   ]
  },
  {
   "cell_type": "code",
   "execution_count": 95,
   "metadata": {},
   "outputs": [
    {
     "data": {
      "image/png": "[encoded data removed]",
      "text/plain": [
       "<Figure size 640x480 with 1 Axes>"
      ]
     },
     "metadata": {},
     "output_type": "display_data"
    }
   ],
   "source": [
    "models = [\"Base\", \"Gray\", \"Gray + Rand. Transformations\"]\n",
    "\n",
    "plt.bar(models, val_accuracies)\n",
    "\n",
    "plt.xlabel(\"Models\")\n",
    "plt.ylabel(\"Validation Accuracy (%)\")\n",
    "plt.title(\"Validation Accuracy Comparison\")\n",
    "\n",
    "plt.tight_layout()"
   ]
  },
  {
   "cell_type": "code",
   "execution_count": null,
   "metadata": {},
   "outputs": [],
   "source": []
  }
 ],
 "metadata": {
  "kernelspec": {
   "display_name": "ubc-ocean",
   "language": "python",
   "name": "python3"
  },
  "language_info": {
   "codemirror_mode": {
    "name": "ipython",
    "version": 3
   },
   "file_extension": ".py",
   "mimetype": "text/x-python",
   "name": "python",
   "nbconvert_exporter": "python",
   "pygments_lexer": "ipython3",
   "version": "3.10.13"
  }
 },
 "nbformat": 4,
 "nbformat_minor": 2
}
