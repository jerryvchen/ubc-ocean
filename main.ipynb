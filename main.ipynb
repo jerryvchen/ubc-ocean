{
 "cells": [
  {
   "cell_type": "markdown",
   "metadata": {},
   "source": [
    "# Main Notebook"
   ]
  },
  {
   "cell_type": "markdown",
   "metadata": {},
   "source": [
    "### Options"
   ]
  },
  {
   "cell_type": "code",
   "execution_count": 100,
   "metadata": {},
   "outputs": [],
   "source": [
    "USING_THUMBNAILS = True\n",
    "RAND = 1234 # for reproducabilty"
   ]
  },
  {
   "cell_type": "markdown",
   "metadata": {},
   "source": [
    "### Imports"
   ]
  },
  {
   "cell_type": "code",
   "execution_count": 101,
   "metadata": {},
   "outputs": [],
   "source": [
    "# CSV handling\n",
    "import pandas as pd\n",
    "\n",
    "# Data split\n",
    "from sklearn.model_selection import train_test_split\n",
    "\n",
    "# Image Processing\n",
    "from PIL import Image\n",
    "\n",
    "# Model building\n",
    "import tensorflow as tf\n",
    "from sklearn.preprocessing import LabelEncoder\n",
    "\n",
    "# Visualization Tools\n",
    "import matplotlib.pyplot as plt\n",
    "\n",
    "# Misc\n",
    "import numpy as np"
   ]
  },
  {
   "cell_type": "markdown",
   "metadata": {},
   "source": [
    "Step 1: Read the CSV File"
   ]
  },
  {
   "cell_type": "code",
   "execution_count": 102,
   "metadata": {},
   "outputs": [],
   "source": [
    "# Load the CSV file\n",
    "data_csv = pd.read_csv(\"data/train.csv\")\n",
    "\n",
    "# Add image_path column\n",
    "if not USING_THUMBNAILS:\n",
    "    data_csv[\"image_path\"] = data_csv[\"image_id\"].apply(lambda x: f\"data/train_thumbnails/{x}.png\")\n",
    "else:\n",
    "    data_csv[\"image_path\"] = data_csv[\"image_id\"].apply(lambda x: f\"data/train_thumbnails/{x}_thumbnail.png\")\n",
    "    # remove is_tma stuff as it is not in thumbnails\n",
    "    data_csv = data_csv[data_csv['is_tma'] != True]"
   ]
  },
  {
   "cell_type": "markdown",
   "metadata": {},
   "source": [
    "Encoding data"
   ]
  },
  {
   "cell_type": "code",
   "execution_count": 103,
   "metadata": {},
   "outputs": [],
   "source": [
    "label_encoder = LabelEncoder()\n",
    "\n",
    "# multiclass \n",
    "data_csv[\"encoded_label\"] = label_encoder.fit_transform(data_csv[\"label\"])\n",
    "\n",
    "# binary (for each type)\n",
    "for class_name in label_encoder.classes_:\n",
    "    data_csv[f\"label_{class_name}\"] = (data_csv[\"label\"] == class_name).astype(int)"
   ]
  },
  {
   "cell_type": "markdown",
   "metadata": {},
   "source": [
    "Step 2: Split Data"
   ]
  },
  {
   "cell_type": "code",
   "execution_count": 104,
   "metadata": {},
   "outputs": [],
   "source": [
    "train_df, val_df = train_test_split(data_csv, test_size=0.2, random_state=RAND)"
   ]
  },
  {
   "cell_type": "markdown",
   "metadata": {},
   "source": [
    "Step 3: Preprocess Images"
   ]
  },
  {
   "cell_type": "code",
   "execution_count": 105,
   "metadata": {},
   "outputs": [],
   "source": [
    "def resize_and_pad(img_path, target_size=(512, 512)):\n",
    "    image = Image.open(img_path)\n",
    "\n",
    "    # Calculate the ratio of the target dimensions to the original dimensions\n",
    "    ratio = min(target_size[0] / image.size[0], target_size[1] / image.size[1])\n",
    "    new_size = (int(image.size[0] * ratio), int(image.size[1] * ratio))\n",
    "\n",
    "    # Resize the image\n",
    "    resized_image = image.resize(new_size)\n",
    "\n",
    "    # Create a new image with the desired size and black background\n",
    "    new_image = Image.new(\"RGB\", target_size)\n",
    "\n",
    "    # Calculate coordinates to paste the resized image onto the center of the new image\n",
    "    upper = (target_size[1] - new_size[1]) // 2\n",
    "    left = (target_size[0] - new_size[0]) // 2\n",
    "    new_image.paste(resized_image, (left, upper))\n",
    "\n",
    "    return new_image"
   ]
  },
  {
   "cell_type": "code",
   "execution_count": 106,
   "metadata": {},
   "outputs": [],
   "source": [
    "load_img = tf.keras.preprocessing.image.load_img\n",
    "img_to_array = tf.keras.preprocessing.image.img_to_array\n",
    "\n",
    "preprocess_input = tf.keras.applications.efficientnet.preprocess_input\n",
    "\n",
    "def preprocess_img(img_path):\n",
    "    img = resize_and_pad(img_path)\n",
    "    img = img_to_array(img)\n",
    "\n",
    "    # preprocess by model needs\n",
    "    preprocess_input(img)\n",
    "\n",
    "    return img"
   ]
  },
  {
   "cell_type": "markdown",
   "metadata": {},
   "source": [
    "Step 4: Data Generator\n",
    "\n",
    "(some form of bootstrapping)"
   ]
  },
  {
   "cell_type": "code",
   "execution_count": 107,
   "metadata": {},
   "outputs": [],
   "source": [
    "to_categorical = tf.keras.utils.to_categorical\n",
    "\n",
    "def data_generator(df, label_col, batch_size, num_classes=None, is_binary=False):\n",
    "    while True:\n",
    "        # Shuffle data in each epoch\n",
    "        df: pd.DataFrame = df.sample(frac=1).reset_index(drop=True)\n",
    "\n",
    "        for i in range(0 , len(df), batch_size):\n",
    "            batch_df = df[i : i + batch_size]\n",
    "\n",
    "            batch_imgs = np.array([preprocess_img(path) for path in batch_df[\"image_path\"]])\n",
    "\n",
    "            if is_binary:\n",
    "                batch_labels = np.array(batch_df[label_col])\n",
    "            else:\n",
    "                batch_labels = to_categorical(batch_df[label_col], num_classes=num_classes)\n",
    "            \n",
    "            yield batch_imgs, batch_labels\n",
    "    \n",
    "\n",
    "def validation_data_generator(df, label_column, batch_size, num_classes=None, is_binary=False):\n",
    "    while True:\n",
    "        # DO NOT shuffle\n",
    "        for i in range(0, len(df), batch_size):\n",
    "            batch_df = df[i:i+batch_size]\n",
    "\n",
    "            batch_images = np.array([preprocess_img(path) for path in batch_df['image_path']])\n",
    "            \n",
    "            if is_binary:\n",
    "                batch_labels = np.array(batch_df[label_column])\n",
    "            else:\n",
    "                batch_labels = to_categorical(batch_df[label_column], num_classes=num_classes)\n",
    "\n",
    "            yield batch_images, batch_labels\n"
   ]
  },
  {
   "cell_type": "markdown",
   "metadata": {},
   "source": [
    "Create the model"
   ]
  },
  {
   "cell_type": "code",
   "execution_count": 108,
   "metadata": {},
   "outputs": [],
   "source": [
    "layers = tf.keras.layers\n",
    "models = tf.keras.models"
   ]
  },
  {
   "cell_type": "code",
   "execution_count": 109,
   "metadata": {},
   "outputs": [],
   "source": [
    "base_model = tf.keras.applications.EfficientNetB7(\n",
    "    include_top=False,\n",
    "    weights=\"imagenet\", # may be changed later\n",
    "    input_shape=(512, 512, 3)\n",
    ")\n",
    "base_model.trainable = False # freeze base model"
   ]
  },
  {
   "cell_type": "code",
   "execution_count": 110,
   "metadata": {},
   "outputs": [],
   "source": [
    "# multi class model\n",
    "x = layers.GlobalAveragePooling2D()(base_model.output)\n",
    "x = layers.Dense(1024, activation='relu')(x)\n",
    "output = layers.Dense(5, activation='softmax')(x)  # 5 classes\n",
    "model_multi = models.Model(inputs=base_model.input, outputs=output)"
   ]
  },
  {
   "cell_type": "code",
   "execution_count": 111,
   "metadata": {},
   "outputs": [],
   "source": [
    "def create_binary_model(base_model):\n",
    "    x = layers.GlobalAveragePooling2D()(base_model.output)\n",
    "    x = layers.Dense(1024, activation='relu')(x)\n",
    "    output = layers.Dense(1, activation='sigmoid')(x)\n",
    "    model_binary = models.Model(inputs=base_model.input, outputs=output)\n",
    "    return model_binary"
   ]
  },
  {
   "cell_type": "code",
   "execution_count": 112,
   "metadata": {},
   "outputs": [],
   "source": [
    "model_binary_hgsc = create_binary_model(base_model)\n",
    "model_binary_lgsc = create_binary_model(base_model)\n",
    "model_binary_cc = create_binary_model(base_model)\n",
    "model_binary_ec = create_binary_model(base_model)\n",
    "model_binary_mc = create_binary_model(base_model)"
   ]
  },
  {
   "cell_type": "code",
   "execution_count": 113,
   "metadata": {},
   "outputs": [],
   "source": [
    "model_multi.compile(optimizer='adam', loss='categorical_crossentropy', metrics=['accuracy'])\n",
    "model_binary_hgsc.compile(optimizer='adam', loss='binary_crossentropy', metrics=['accuracy'])\n",
    "model_binary_lgsc.compile(optimizer='adam', loss='binary_crossentropy', metrics=['accuracy'])\n",
    "model_binary_cc.compile(optimizer='adam', loss='binary_crossentropy', metrics=['accuracy'])\n",
    "model_binary_ec.compile(optimizer='adam', loss='binary_crossentropy', metrics=['accuracy'])\n",
    "model_binary_mc.compile(optimizer='adam', loss='binary_crossentropy', metrics=['accuracy'])"
   ]
  },
  {
   "cell_type": "markdown",
   "metadata": {},
   "source": [
    "Train Models"
   ]
  },
  {
   "cell_type": "code",
   "execution_count": 114,
   "metadata": {},
   "outputs": [],
   "source": [
    "num_classes = 5\n",
    "batch_size = 16\n",
    "# multi model\n",
    "train_gen_multi = data_generator(train_df, \"encoded_label\", batch_size, num_classes=num_classes)\n",
    "\n",
    "# binary models\n",
    "train_gen_hgsc = data_generator(train_df, 'label_HGSC', batch_size, is_binary=True)\n",
    "train_gen_lgsc = data_generator(train_df, 'label_LGSC', batch_size, is_binary=True)\n",
    "train_gen_cc = data_generator(train_df, 'label_CC', batch_size, is_binary=True)\n",
    "train_gen_ec = data_generator(train_df, 'label_EC', batch_size, is_binary=True)\n",
    "train_gen_mc = data_generator(train_df, 'label_MC', batch_size, is_binary=True)\n",
    "\n",
    "# validation stuff\n",
    "val_gen_multi = validation_data_generator(val_df, 'encoded_label', batch_size, num_classes=num_classes)\n",
    "\n",
    "val_gen_hgsc = validation_data_generator(val_df, 'label_HGSC', batch_size, is_binary=True)\n",
    "val_gen_lgsc = validation_data_generator(val_df, 'label_LGSC', batch_size, is_binary=True)\n",
    "val_gen_cc = validation_data_generator(val_df, 'label_CC', batch_size, is_binary=True)\n",
    "val_gen_ec = validation_data_generator(val_df, 'label_EC', batch_size, is_binary=True)\n",
    "val_gen_mc = validation_data_generator(val_df, 'label_MC', batch_size, is_binary=True)\n"
   ]
  },
  {
   "cell_type": "code",
   "execution_count": 116,
   "metadata": {},
   "outputs": [
    {
     "name": "stdout",
     "output_type": "stream",
     "text": [
      "Epoch 1/3\n",
      "25/25 [==============================] - 219s 9s/step - loss: 1.1512 - accuracy: 0.5381 - val_loss: 1.1978 - val_accuracy: 0.5000\n",
      "Epoch 2/3\n",
      "25/25 [==============================] - 217s 9s/step - loss: 1.0244 - accuracy: 0.5964 - val_loss: 1.3120 - val_accuracy: 0.4375\n",
      "Epoch 3/3\n",
      "25/25 [==============================] - 217s 9s/step - loss: 0.8602 - accuracy: 0.6650 - val_loss: 1.2375 - val_accuracy: 0.5000\n",
      "Epoch 1/3\n",
      "25/25 [==============================] - 247s 9s/step - loss: 0.8751 - accuracy: 0.5175 - val_loss: 0.6872 - val_accuracy: 0.5729\n",
      "Epoch 2/3\n",
      "25/25 [==============================] - 220s 9s/step - loss: 0.6110 - accuracy: 0.6624 - val_loss: 0.7118 - val_accuracy: 0.5417\n",
      "Epoch 3/3\n",
      "25/25 [==============================] - 218s 9s/step - loss: 0.5921 - accuracy: 0.6827 - val_loss: 0.6724 - val_accuracy: 0.5521\n",
      "Epoch 1/3\n",
      "25/25 [==============================] - 249s 9s/step - loss: 0.5324 - accuracy: 0.8925 - val_loss: 0.2150 - val_accuracy: 0.9479\n",
      "Epoch 2/3\n",
      "25/25 [==============================] - 220s 9s/step - loss: 0.3065 - accuracy: 0.9112 - val_loss: 0.1746 - val_accuracy: 0.9479\n",
      "Epoch 3/3\n",
      "25/25 [==============================] - 219s 9s/step - loss: 0.2463 - accuracy: 0.9086 - val_loss: 0.1481 - val_accuracy: 0.9479\n",
      "Epoch 1/3\n",
      "25/25 [==============================] - 247s 9s/step - loss: 0.5634 - accuracy: 0.7825 - val_loss: 0.4570 - val_accuracy: 0.8229\n",
      "Epoch 2/3\n",
      "25/25 [==============================] - 219s 9s/step - loss: 0.4169 - accuracy: 0.8071 - val_loss: 0.4052 - val_accuracy: 0.8333\n",
      "Epoch 3/3\n",
      "25/25 [==============================] - 216s 9s/step - loss: 0.3797 - accuracy: 0.8503 - val_loss: 0.4370 - val_accuracy: 0.7396\n",
      "Epoch 1/3\n",
      "25/25 [==============================] - 244s 9s/step - loss: 0.6971 - accuracy: 0.7050 - val_loss: 0.5279 - val_accuracy: 0.7500\n",
      "Epoch 2/3\n",
      "25/25 [==============================] - 218s 9s/step - loss: 0.4922 - accuracy: 0.7690 - val_loss: 0.5435 - val_accuracy: 0.7500\n",
      "Epoch 3/3\n",
      "25/25 [==============================] - 217s 9s/step - loss: 0.4506 - accuracy: 0.7944 - val_loss: 0.5675 - val_accuracy: 0.7500\n",
      "Epoch 1/3\n",
      "25/25 [==============================] - 246s 9s/step - loss: 0.3843 - accuracy: 0.8750 - val_loss: 0.1544 - val_accuracy: 0.9583\n",
      "Epoch 2/3\n",
      "25/25 [==============================] - 216s 9s/step - loss: 0.1845 - accuracy: 0.9264 - val_loss: 0.1405 - val_accuracy: 0.9688\n",
      "Epoch 3/3\n",
      "25/25 [==============================] - 213s 9s/step - loss: 0.1476 - accuracy: 0.9594 - val_loss: 0.1106 - val_accuracy: 0.9688\n"
     ]
    }
   ],
   "source": [
    "ModelCheckpoint = tf.keras.callbacks.ModelCheckpoint\n",
    "EarlyStopping = tf.keras.callbacks.EarlyStopping\n",
    "\n",
    "steps_per_epoch = len(train_df) // batch_size\n",
    "validation_steps = len(val_df) // batch_size\n",
    "\n",
    "histories = []\n",
    "\n",
    "models = [model_multi, model_binary_hgsc, model_binary_lgsc, model_binary_cc, model_binary_ec, model_binary_mc]  # List of your models\n",
    "generators = [train_gen_multi, train_gen_hgsc, train_gen_lgsc, train_gen_cc, train_gen_ec, train_gen_mc]  # Corresponding generators\n",
    "val_gen = [val_gen_multi, val_gen_hgsc, val_gen_lgsc, val_gen_cc, val_gen_ec, val_gen_mc]\n",
    "\n",
    "for model, generator, val_generator in zip(models, generators, val_gen):\n",
    "    #print(model, generator, val_generator)\n",
    "    # the callbacks\n",
    "    # callbacks = [\n",
    "    #     EarlyStopping(monitor='val_loss', patience=10),\n",
    "    #     ModelCheckpoint(filepath='best_model.h5', monitor='val_loss', save_best_only=True)\n",
    "    # ]\n",
    "\n",
    "    h = model.fit(generator, epochs=3, validation_data=val_generator,\n",
    "                  steps_per_epoch=steps_per_epoch, validation_steps=validation_steps)\n",
    "    histories.append(h)\n",
    "\n"
   ]
  },
  {
   "cell_type": "markdown",
   "metadata": {},
   "source": [
    "Final model"
   ]
  },
  {
   "cell_type": "code",
   "execution_count": 136,
   "metadata": {},
   "outputs": [],
   "source": [
    "def final_prediction(input_image, model_multi, binary_models, label_encoder):\n",
    "    # Preprocess the input image similarly to how it was done for training\n",
    "    processed_image = preprocess_img(input_image)\n",
    "    processed_image = np.expand_dims(processed_image, axis=0)  # Add batch dimension\n",
    "\n",
    "    # Step 1: Make a preliminary decision with the multi-class classifier\n",
    "    pred_multi = model_multi.predict(processed_image)\n",
    "    preliminary_decision = np.argmax(pred_multi, axis=-1)\n",
    "    preliminary_label = label_encoder.inverse_transform([preliminary_decision])[0]\n",
    "    \n",
    "    # Step 2: Confirm with the corresponding binary classifier\n",
    "    model_binary = binary_models[preliminary_label]\n",
    "    pred_binary = model_binary.predict(processed_image)\n",
    "    confirmed = (pred_binary > 0.5).astype(int)  # Assuming a threshold of 0.5 for binary classification\n",
    "\n",
    "    # Return the final label\n",
    "    if confirmed:\n",
    "        return preliminary_label\n",
    "    else:\n",
    "        return 'Other'\n",
    "\n",
    "# Map each label to its corresponding binary model\n",
    "binary_models = {\n",
    "    'HGSC': model_binary_hgsc,\n",
    "    'LGSC': model_binary_lgsc,\n",
    "    'CC' : model_binary_cc,\n",
    "    'EC' : model_binary_ec,\n",
    "    'MC' : model_binary_mc\n",
    "}"
   ]
  },
  {
   "cell_type": "code",
   "execution_count": 141,
   "metadata": {},
   "outputs": [],
   "source": [
    "val_image_paths = val_df['image_path'].tolist() # List of validation image paths\n",
    "val_true_labels = val_df['label'].tolist()  # Corresponding true labels\n",
    "val_image_paths = val_image_paths\n",
    "val_true_labels = val_true_labels"
   ]
  },
  {
   "cell_type": "code",
   "execution_count": 139,
   "metadata": {},
   "outputs": [],
   "source": [
    "def evaluate_on_validation_data(image_paths, true_labels, model_multi, binary_models, label_encoder):\n",
    "    correct_predictions = 0\n",
    "\n",
    "    for img_path, true_label in zip(image_paths, true_labels):\n",
    "        predicted_label = final_prediction(img_path, model_multi, binary_models, label_encoder)\n",
    "\n",
    "        if predicted_label == true_label:\n",
    "            correct_predictions += 1\n",
    "    accuracy = correct_predictions / len(image_paths)\n",
    "    return accuracy"
   ]
  },
  {
   "cell_type": "code",
   "execution_count": 142,
   "metadata": {},
   "outputs": [
    {
     "name": "stdout",
     "output_type": "stream",
     "text": [
      "1/1 [==============================] - 0s 482ms/step\n",
      "[1]\n",
      "lol\n"
     ]
    },
    {
     "name": "stderr",
     "output_type": "stream",
     "text": [
      "c:\\Users\\Jerry Chen\\.conda\\envs\\ubc-ocean\\lib\\site-packages\\sklearn\\preprocessing\\_label.py:153: DataConversionWarning: A column-vector y was passed when a 1d array was expected. Please change the shape of y to (n_samples, ), for example using ravel().\n",
      "  y = column_or_1d(y, warn=True)\n"
     ]
    },
    {
     "name": "stdout",
     "output_type": "stream",
     "text": [
      "1/1 [==============================] - 1s 509ms/step\n",
      "1/1 [==============================] - 0s 470ms/step\n",
      "[1]\n",
      "lol\n"
     ]
    },
    {
     "name": "stderr",
     "output_type": "stream",
     "text": [
      "c:\\Users\\Jerry Chen\\.conda\\envs\\ubc-ocean\\lib\\site-packages\\sklearn\\preprocessing\\_label.py:153: DataConversionWarning: A column-vector y was passed when a 1d array was expected. Please change the shape of y to (n_samples, ), for example using ravel().\n",
      "  y = column_or_1d(y, warn=True)\n"
     ]
    },
    {
     "name": "stdout",
     "output_type": "stream",
     "text": [
      "1/1 [==============================] - 0s 467ms/step\n",
      "1/1 [==============================] - 0s 468ms/step\n",
      "[2]\n",
      "lol\n"
     ]
    },
    {
     "name": "stderr",
     "output_type": "stream",
     "text": [
      "c:\\Users\\Jerry Chen\\.conda\\envs\\ubc-ocean\\lib\\site-packages\\sklearn\\preprocessing\\_label.py:153: DataConversionWarning: A column-vector y was passed when a 1d array was expected. Please change the shape of y to (n_samples, ), for example using ravel().\n",
      "  y = column_or_1d(y, warn=True)\n"
     ]
    },
    {
     "name": "stdout",
     "output_type": "stream",
     "text": [
      "1/1 [==============================] - 0s 484ms/step\n",
      "1/1 [==============================] - 0s 474ms/step\n",
      "[2]\n",
      "lol\n"
     ]
    },
    {
     "name": "stderr",
     "output_type": "stream",
     "text": [
      "c:\\Users\\Jerry Chen\\.conda\\envs\\ubc-ocean\\lib\\site-packages\\sklearn\\preprocessing\\_label.py:153: DataConversionWarning: A column-vector y was passed when a 1d array was expected. Please change the shape of y to (n_samples, ), for example using ravel().\n",
      "  y = column_or_1d(y, warn=True)\n"
     ]
    },
    {
     "name": "stdout",
     "output_type": "stream",
     "text": [
      "1/1 [==============================] - 1s 564ms/step\n",
      "1/1 [==============================] - 0s 455ms/step\n",
      "[1]\n",
      "lol\n"
     ]
    },
    {
     "name": "stderr",
     "output_type": "stream",
     "text": [
      "c:\\Users\\Jerry Chen\\.conda\\envs\\ubc-ocean\\lib\\site-packages\\sklearn\\preprocessing\\_label.py:153: DataConversionWarning: A column-vector y was passed when a 1d array was expected. Please change the shape of y to (n_samples, ), for example using ravel().\n",
      "  y = column_or_1d(y, warn=True)\n"
     ]
    },
    {
     "name": "stdout",
     "output_type": "stream",
     "text": [
      "1/1 [==============================] - 1s 547ms/step\n",
      "1/1 [==============================] - 1s 550ms/step\n",
      "[1]\n",
      "lol\n"
     ]
    },
    {
     "name": "stderr",
     "output_type": "stream",
     "text": [
      "c:\\Users\\Jerry Chen\\.conda\\envs\\ubc-ocean\\lib\\site-packages\\sklearn\\preprocessing\\_label.py:153: DataConversionWarning: A column-vector y was passed when a 1d array was expected. Please change the shape of y to (n_samples, ), for example using ravel().\n",
      "  y = column_or_1d(y, warn=True)\n"
     ]
    },
    {
     "name": "stdout",
     "output_type": "stream",
     "text": [
      "1/1 [==============================] - 1s 614ms/step\n",
      "1/1 [==============================] - 0s 466ms/step\n",
      "[0]\n",
      "lol\n"
     ]
    },
    {
     "name": "stderr",
     "output_type": "stream",
     "text": [
      "c:\\Users\\Jerry Chen\\.conda\\envs\\ubc-ocean\\lib\\site-packages\\sklearn\\preprocessing\\_label.py:153: DataConversionWarning: A column-vector y was passed when a 1d array was expected. Please change the shape of y to (n_samples, ), for example using ravel().\n",
      "  y = column_or_1d(y, warn=True)\n"
     ]
    },
    {
     "name": "stdout",
     "output_type": "stream",
     "text": [
      "1/1 [==============================] - 0s 478ms/step\n",
      "1/1 [==============================] - 0s 475ms/step\n",
      "[2]\n",
      "lol\n"
     ]
    },
    {
     "name": "stderr",
     "output_type": "stream",
     "text": [
      "c:\\Users\\Jerry Chen\\.conda\\envs\\ubc-ocean\\lib\\site-packages\\sklearn\\preprocessing\\_label.py:153: DataConversionWarning: A column-vector y was passed when a 1d array was expected. Please change the shape of y to (n_samples, ), for example using ravel().\n",
      "  y = column_or_1d(y, warn=True)\n"
     ]
    },
    {
     "name": "stdout",
     "output_type": "stream",
     "text": [
      "1/1 [==============================] - 1s 555ms/step\n",
      "1/1 [==============================] - 1s 577ms/step\n",
      "[2]\n",
      "lol\n"
     ]
    },
    {
     "name": "stderr",
     "output_type": "stream",
     "text": [
      "c:\\Users\\Jerry Chen\\.conda\\envs\\ubc-ocean\\lib\\site-packages\\sklearn\\preprocessing\\_label.py:153: DataConversionWarning: A column-vector y was passed when a 1d array was expected. Please change the shape of y to (n_samples, ), for example using ravel().\n",
      "  y = column_or_1d(y, warn=True)\n"
     ]
    },
    {
     "name": "stdout",
     "output_type": "stream",
     "text": [
      "1/1 [==============================] - 1s 600ms/step\n",
      "1/1 [==============================] - 1s 553ms/step\n",
      "[2]\n",
      "lol\n"
     ]
    },
    {
     "name": "stderr",
     "output_type": "stream",
     "text": [
      "c:\\Users\\Jerry Chen\\.conda\\envs\\ubc-ocean\\lib\\site-packages\\sklearn\\preprocessing\\_label.py:153: DataConversionWarning: A column-vector y was passed when a 1d array was expected. Please change the shape of y to (n_samples, ), for example using ravel().\n",
      "  y = column_or_1d(y, warn=True)\n"
     ]
    },
    {
     "name": "stdout",
     "output_type": "stream",
     "text": [
      "1/1 [==============================] - 1s 543ms/step\n",
      "1/1 [==============================] - 0s 494ms/step\n",
      "[2]\n",
      "lol\n"
     ]
    },
    {
     "name": "stderr",
     "output_type": "stream",
     "text": [
      "c:\\Users\\Jerry Chen\\.conda\\envs\\ubc-ocean\\lib\\site-packages\\sklearn\\preprocessing\\_label.py:153: DataConversionWarning: A column-vector y was passed when a 1d array was expected. Please change the shape of y to (n_samples, ), for example using ravel().\n",
      "  y = column_or_1d(y, warn=True)\n"
     ]
    },
    {
     "name": "stdout",
     "output_type": "stream",
     "text": [
      "1/1 [==============================] - 0s 473ms/step\n",
      "1/1 [==============================] - 0s 471ms/step\n",
      "[0]\n",
      "lol\n"
     ]
    },
    {
     "name": "stderr",
     "output_type": "stream",
     "text": [
      "c:\\Users\\Jerry Chen\\.conda\\envs\\ubc-ocean\\lib\\site-packages\\sklearn\\preprocessing\\_label.py:153: DataConversionWarning: A column-vector y was passed when a 1d array was expected. Please change the shape of y to (n_samples, ), for example using ravel().\n",
      "  y = column_or_1d(y, warn=True)\n"
     ]
    },
    {
     "name": "stdout",
     "output_type": "stream",
     "text": [
      "1/1 [==============================] - 1s 545ms/step\n",
      "1/1 [==============================] - 1s 538ms/step\n",
      "[3]\n",
      "lol\n"
     ]
    },
    {
     "name": "stderr",
     "output_type": "stream",
     "text": [
      "c:\\Users\\Jerry Chen\\.conda\\envs\\ubc-ocean\\lib\\site-packages\\sklearn\\preprocessing\\_label.py:153: DataConversionWarning: A column-vector y was passed when a 1d array was expected. Please change the shape of y to (n_samples, ), for example using ravel().\n",
      "  y = column_or_1d(y, warn=True)\n"
     ]
    },
    {
     "name": "stdout",
     "output_type": "stream",
     "text": [
      "1/1 [==============================] - 1s 514ms/step\n",
      "1/1 [==============================] - 0s 458ms/step\n",
      "[2]\n",
      "lol\n"
     ]
    },
    {
     "name": "stderr",
     "output_type": "stream",
     "text": [
      "c:\\Users\\Jerry Chen\\.conda\\envs\\ubc-ocean\\lib\\site-packages\\sklearn\\preprocessing\\_label.py:153: DataConversionWarning: A column-vector y was passed when a 1d array was expected. Please change the shape of y to (n_samples, ), for example using ravel().\n",
      "  y = column_or_1d(y, warn=True)\n"
     ]
    },
    {
     "name": "stdout",
     "output_type": "stream",
     "text": [
      "1/1 [==============================] - 1s 546ms/step\n",
      "1/1 [==============================] - 0s 453ms/step\n",
      "[2]\n",
      "lol\n"
     ]
    },
    {
     "name": "stderr",
     "output_type": "stream",
     "text": [
      "c:\\Users\\Jerry Chen\\.conda\\envs\\ubc-ocean\\lib\\site-packages\\sklearn\\preprocessing\\_label.py:153: DataConversionWarning: A column-vector y was passed when a 1d array was expected. Please change the shape of y to (n_samples, ), for example using ravel().\n",
      "  y = column_or_1d(y, warn=True)\n"
     ]
    },
    {
     "name": "stdout",
     "output_type": "stream",
     "text": [
      "1/1 [==============================] - 0s 450ms/step\n",
      "1/1 [==============================] - 0s 468ms/step\n",
      "[2]\n",
      "lol\n"
     ]
    },
    {
     "name": "stderr",
     "output_type": "stream",
     "text": [
      "c:\\Users\\Jerry Chen\\.conda\\envs\\ubc-ocean\\lib\\site-packages\\sklearn\\preprocessing\\_label.py:153: DataConversionWarning: A column-vector y was passed when a 1d array was expected. Please change the shape of y to (n_samples, ), for example using ravel().\n",
      "  y = column_or_1d(y, warn=True)\n"
     ]
    },
    {
     "name": "stdout",
     "output_type": "stream",
     "text": [
      "1/1 [==============================] - 0s 479ms/step\n",
      "1/1 [==============================] - 0s 480ms/step\n",
      "[4]\n",
      "lol\n"
     ]
    },
    {
     "name": "stderr",
     "output_type": "stream",
     "text": [
      "c:\\Users\\Jerry Chen\\.conda\\envs\\ubc-ocean\\lib\\site-packages\\sklearn\\preprocessing\\_label.py:153: DataConversionWarning: A column-vector y was passed when a 1d array was expected. Please change the shape of y to (n_samples, ), for example using ravel().\n",
      "  y = column_or_1d(y, warn=True)\n"
     ]
    },
    {
     "name": "stdout",
     "output_type": "stream",
     "text": [
      "1/1 [==============================] - 0s 495ms/step\n",
      "1/1 [==============================] - 0s 458ms/step\n",
      "[1]\n",
      "lol\n"
     ]
    },
    {
     "name": "stderr",
     "output_type": "stream",
     "text": [
      "c:\\Users\\Jerry Chen\\.conda\\envs\\ubc-ocean\\lib\\site-packages\\sklearn\\preprocessing\\_label.py:153: DataConversionWarning: A column-vector y was passed when a 1d array was expected. Please change the shape of y to (n_samples, ), for example using ravel().\n",
      "  y = column_or_1d(y, warn=True)\n"
     ]
    },
    {
     "name": "stdout",
     "output_type": "stream",
     "text": [
      "1/1 [==============================] - 0s 480ms/step\n",
      "1/1 [==============================] - 0s 469ms/step\n",
      "[2]\n",
      "lol\n"
     ]
    },
    {
     "name": "stderr",
     "output_type": "stream",
     "text": [
      "c:\\Users\\Jerry Chen\\.conda\\envs\\ubc-ocean\\lib\\site-packages\\sklearn\\preprocessing\\_label.py:153: DataConversionWarning: A column-vector y was passed when a 1d array was expected. Please change the shape of y to (n_samples, ), for example using ravel().\n",
      "  y = column_or_1d(y, warn=True)\n"
     ]
    },
    {
     "name": "stdout",
     "output_type": "stream",
     "text": [
      "1/1 [==============================] - 0s 499ms/step\n",
      "1/1 [==============================] - 0s 467ms/step\n",
      "[2]\n",
      "lol\n"
     ]
    },
    {
     "name": "stderr",
     "output_type": "stream",
     "text": [
      "c:\\Users\\Jerry Chen\\.conda\\envs\\ubc-ocean\\lib\\site-packages\\sklearn\\preprocessing\\_label.py:153: DataConversionWarning: A column-vector y was passed when a 1d array was expected. Please change the shape of y to (n_samples, ), for example using ravel().\n",
      "  y = column_or_1d(y, warn=True)\n"
     ]
    },
    {
     "name": "stdout",
     "output_type": "stream",
     "text": [
      "1/1 [==============================] - 0s 470ms/step\n",
      "1/1 [==============================] - 0s 436ms/step\n",
      "[2]\n",
      "lol\n"
     ]
    },
    {
     "name": "stderr",
     "output_type": "stream",
     "text": [
      "c:\\Users\\Jerry Chen\\.conda\\envs\\ubc-ocean\\lib\\site-packages\\sklearn\\preprocessing\\_label.py:153: DataConversionWarning: A column-vector y was passed when a 1d array was expected. Please change the shape of y to (n_samples, ), for example using ravel().\n",
      "  y = column_or_1d(y, warn=True)\n"
     ]
    },
    {
     "name": "stdout",
     "output_type": "stream",
     "text": [
      "1/1 [==============================] - 0s 431ms/step\n",
      "1/1 [==============================] - 1s 560ms/step\n",
      "[2]\n",
      "lol\n"
     ]
    },
    {
     "name": "stderr",
     "output_type": "stream",
     "text": [
      "c:\\Users\\Jerry Chen\\.conda\\envs\\ubc-ocean\\lib\\site-packages\\sklearn\\preprocessing\\_label.py:153: DataConversionWarning: A column-vector y was passed when a 1d array was expected. Please change the shape of y to (n_samples, ), for example using ravel().\n",
      "  y = column_or_1d(y, warn=True)\n"
     ]
    },
    {
     "name": "stdout",
     "output_type": "stream",
     "text": [
      "1/1 [==============================] - 1s 510ms/step\n",
      "1/1 [==============================] - 0s 455ms/step\n",
      "[2]\n",
      "lol\n"
     ]
    },
    {
     "name": "stderr",
     "output_type": "stream",
     "text": [
      "c:\\Users\\Jerry Chen\\.conda\\envs\\ubc-ocean\\lib\\site-packages\\sklearn\\preprocessing\\_label.py:153: DataConversionWarning: A column-vector y was passed when a 1d array was expected. Please change the shape of y to (n_samples, ), for example using ravel().\n",
      "  y = column_or_1d(y, warn=True)\n"
     ]
    },
    {
     "name": "stdout",
     "output_type": "stream",
     "text": [
      "1/1 [==============================] - 0s 478ms/step\n",
      "1/1 [==============================] - 0s 451ms/step\n",
      "[2]\n",
      "lol\n"
     ]
    },
    {
     "name": "stderr",
     "output_type": "stream",
     "text": [
      "c:\\Users\\Jerry Chen\\.conda\\envs\\ubc-ocean\\lib\\site-packages\\sklearn\\preprocessing\\_label.py:153: DataConversionWarning: A column-vector y was passed when a 1d array was expected. Please change the shape of y to (n_samples, ), for example using ravel().\n",
      "  y = column_or_1d(y, warn=True)\n"
     ]
    },
    {
     "name": "stdout",
     "output_type": "stream",
     "text": [
      "1/1 [==============================] - 1s 511ms/step\n",
      "1/1 [==============================] - 0s 496ms/step\n",
      "[2]\n",
      "lol\n"
     ]
    },
    {
     "name": "stderr",
     "output_type": "stream",
     "text": [
      "c:\\Users\\Jerry Chen\\.conda\\envs\\ubc-ocean\\lib\\site-packages\\sklearn\\preprocessing\\_label.py:153: DataConversionWarning: A column-vector y was passed when a 1d array was expected. Please change the shape of y to (n_samples, ), for example using ravel().\n",
      "  y = column_or_1d(y, warn=True)\n"
     ]
    },
    {
     "name": "stdout",
     "output_type": "stream",
     "text": [
      "1/1 [==============================] - 1s 530ms/step\n",
      "1/1 [==============================] - 0s 486ms/step\n",
      "[0]\n",
      "lol\n"
     ]
    },
    {
     "name": "stderr",
     "output_type": "stream",
     "text": [
      "c:\\Users\\Jerry Chen\\.conda\\envs\\ubc-ocean\\lib\\site-packages\\sklearn\\preprocessing\\_label.py:153: DataConversionWarning: A column-vector y was passed when a 1d array was expected. Please change the shape of y to (n_samples, ), for example using ravel().\n",
      "  y = column_or_1d(y, warn=True)\n"
     ]
    },
    {
     "name": "stdout",
     "output_type": "stream",
     "text": [
      "1/1 [==============================] - 0s 497ms/step\n",
      "1/1 [==============================] - 0s 467ms/step\n",
      "[2]\n",
      "lol\n"
     ]
    },
    {
     "name": "stderr",
     "output_type": "stream",
     "text": [
      "c:\\Users\\Jerry Chen\\.conda\\envs\\ubc-ocean\\lib\\site-packages\\sklearn\\preprocessing\\_label.py:153: DataConversionWarning: A column-vector y was passed when a 1d array was expected. Please change the shape of y to (n_samples, ), for example using ravel().\n",
      "  y = column_or_1d(y, warn=True)\n"
     ]
    },
    {
     "name": "stdout",
     "output_type": "stream",
     "text": [
      "1/1 [==============================] - 0s 491ms/step\n",
      "1/1 [==============================] - 0s 451ms/step\n",
      "[2]\n",
      "lol\n"
     ]
    },
    {
     "name": "stderr",
     "output_type": "stream",
     "text": [
      "c:\\Users\\Jerry Chen\\.conda\\envs\\ubc-ocean\\lib\\site-packages\\sklearn\\preprocessing\\_label.py:153: DataConversionWarning: A column-vector y was passed when a 1d array was expected. Please change the shape of y to (n_samples, ), for example using ravel().\n",
      "  y = column_or_1d(y, warn=True)\n"
     ]
    },
    {
     "name": "stdout",
     "output_type": "stream",
     "text": [
      "1/1 [==============================] - 1s 552ms/step\n",
      "1/1 [==============================] - 0s 454ms/step\n",
      "[2]\n",
      "lol\n"
     ]
    },
    {
     "name": "stderr",
     "output_type": "stream",
     "text": [
      "c:\\Users\\Jerry Chen\\.conda\\envs\\ubc-ocean\\lib\\site-packages\\sklearn\\preprocessing\\_label.py:153: DataConversionWarning: A column-vector y was passed when a 1d array was expected. Please change the shape of y to (n_samples, ), for example using ravel().\n",
      "  y = column_or_1d(y, warn=True)\n"
     ]
    },
    {
     "name": "stdout",
     "output_type": "stream",
     "text": [
      "1/1 [==============================] - 0s 461ms/step\n",
      "1/1 [==============================] - 0s 457ms/step\n",
      "[2]\n",
      "lol\n"
     ]
    },
    {
     "name": "stderr",
     "output_type": "stream",
     "text": [
      "c:\\Users\\Jerry Chen\\.conda\\envs\\ubc-ocean\\lib\\site-packages\\sklearn\\preprocessing\\_label.py:153: DataConversionWarning: A column-vector y was passed when a 1d array was expected. Please change the shape of y to (n_samples, ), for example using ravel().\n",
      "  y = column_or_1d(y, warn=True)\n"
     ]
    },
    {
     "name": "stdout",
     "output_type": "stream",
     "text": [
      "1/1 [==============================] - 0s 461ms/step\n",
      "1/1 [==============================] - 0s 486ms/step\n",
      "[0]\n",
      "lol\n"
     ]
    },
    {
     "name": "stderr",
     "output_type": "stream",
     "text": [
      "c:\\Users\\Jerry Chen\\.conda\\envs\\ubc-ocean\\lib\\site-packages\\sklearn\\preprocessing\\_label.py:153: DataConversionWarning: A column-vector y was passed when a 1d array was expected. Please change the shape of y to (n_samples, ), for example using ravel().\n",
      "  y = column_or_1d(y, warn=True)\n"
     ]
    },
    {
     "name": "stdout",
     "output_type": "stream",
     "text": [
      "1/1 [==============================] - 0s 466ms/step\n",
      "1/1 [==============================] - 0s 457ms/step\n",
      "[0]\n",
      "lol\n"
     ]
    },
    {
     "name": "stderr",
     "output_type": "stream",
     "text": [
      "c:\\Users\\Jerry Chen\\.conda\\envs\\ubc-ocean\\lib\\site-packages\\sklearn\\preprocessing\\_label.py:153: DataConversionWarning: A column-vector y was passed when a 1d array was expected. Please change the shape of y to (n_samples, ), for example using ravel().\n",
      "  y = column_or_1d(y, warn=True)\n"
     ]
    },
    {
     "name": "stdout",
     "output_type": "stream",
     "text": [
      "1/1 [==============================] - 0s 477ms/step\n",
      "1/1 [==============================] - 0s 440ms/step\n",
      "[2]\n",
      "lol\n"
     ]
    },
    {
     "name": "stderr",
     "output_type": "stream",
     "text": [
      "c:\\Users\\Jerry Chen\\.conda\\envs\\ubc-ocean\\lib\\site-packages\\sklearn\\preprocessing\\_label.py:153: DataConversionWarning: A column-vector y was passed when a 1d array was expected. Please change the shape of y to (n_samples, ), for example using ravel().\n",
      "  y = column_or_1d(y, warn=True)\n"
     ]
    },
    {
     "name": "stdout",
     "output_type": "stream",
     "text": [
      "1/1 [==============================] - 0s 494ms/step\n",
      "1/1 [==============================] - 0s 469ms/step\n",
      "[2]\n",
      "lol\n"
     ]
    },
    {
     "name": "stderr",
     "output_type": "stream",
     "text": [
      "c:\\Users\\Jerry Chen\\.conda\\envs\\ubc-ocean\\lib\\site-packages\\sklearn\\preprocessing\\_label.py:153: DataConversionWarning: A column-vector y was passed when a 1d array was expected. Please change the shape of y to (n_samples, ), for example using ravel().\n",
      "  y = column_or_1d(y, warn=True)\n"
     ]
    },
    {
     "name": "stdout",
     "output_type": "stream",
     "text": [
      "1/1 [==============================] - 0s 464ms/step\n",
      "1/1 [==============================] - 0s 475ms/step\n",
      "[0]\n",
      "lol\n"
     ]
    },
    {
     "name": "stderr",
     "output_type": "stream",
     "text": [
      "c:\\Users\\Jerry Chen\\.conda\\envs\\ubc-ocean\\lib\\site-packages\\sklearn\\preprocessing\\_label.py:153: DataConversionWarning: A column-vector y was passed when a 1d array was expected. Please change the shape of y to (n_samples, ), for example using ravel().\n",
      "  y = column_or_1d(y, warn=True)\n"
     ]
    },
    {
     "name": "stdout",
     "output_type": "stream",
     "text": [
      "1/1 [==============================] - 1s 512ms/step\n",
      "1/1 [==============================] - 0s 475ms/step\n",
      "[1]\n",
      "lol\n"
     ]
    },
    {
     "name": "stderr",
     "output_type": "stream",
     "text": [
      "c:\\Users\\Jerry Chen\\.conda\\envs\\ubc-ocean\\lib\\site-packages\\sklearn\\preprocessing\\_label.py:153: DataConversionWarning: A column-vector y was passed when a 1d array was expected. Please change the shape of y to (n_samples, ), for example using ravel().\n",
      "  y = column_or_1d(y, warn=True)\n"
     ]
    },
    {
     "name": "stdout",
     "output_type": "stream",
     "text": [
      "1/1 [==============================] - 0s 469ms/step\n",
      "1/1 [==============================] - 0s 457ms/step\n",
      "[2]\n",
      "lol\n"
     ]
    },
    {
     "name": "stderr",
     "output_type": "stream",
     "text": [
      "c:\\Users\\Jerry Chen\\.conda\\envs\\ubc-ocean\\lib\\site-packages\\sklearn\\preprocessing\\_label.py:153: DataConversionWarning: A column-vector y was passed when a 1d array was expected. Please change the shape of y to (n_samples, ), for example using ravel().\n",
      "  y = column_or_1d(y, warn=True)\n"
     ]
    },
    {
     "name": "stdout",
     "output_type": "stream",
     "text": [
      "1/1 [==============================] - 0s 459ms/step\n",
      "1/1 [==============================] - 0s 450ms/step\n",
      "[1]\n",
      "lol\n"
     ]
    },
    {
     "name": "stderr",
     "output_type": "stream",
     "text": [
      "c:\\Users\\Jerry Chen\\.conda\\envs\\ubc-ocean\\lib\\site-packages\\sklearn\\preprocessing\\_label.py:153: DataConversionWarning: A column-vector y was passed when a 1d array was expected. Please change the shape of y to (n_samples, ), for example using ravel().\n",
      "  y = column_or_1d(y, warn=True)\n"
     ]
    },
    {
     "name": "stdout",
     "output_type": "stream",
     "text": [
      "1/1 [==============================] - 1s 549ms/step\n",
      "1/1 [==============================] - 0s 449ms/step\n",
      "[4]\n",
      "lol\n"
     ]
    },
    {
     "name": "stderr",
     "output_type": "stream",
     "text": [
      "c:\\Users\\Jerry Chen\\.conda\\envs\\ubc-ocean\\lib\\site-packages\\sklearn\\preprocessing\\_label.py:153: DataConversionWarning: A column-vector y was passed when a 1d array was expected. Please change the shape of y to (n_samples, ), for example using ravel().\n",
      "  y = column_or_1d(y, warn=True)\n"
     ]
    },
    {
     "name": "stdout",
     "output_type": "stream",
     "text": [
      "1/1 [==============================] - 0s 499ms/step\n",
      "1/1 [==============================] - 0s 487ms/step\n",
      "[1]\n",
      "lol\n"
     ]
    },
    {
     "name": "stderr",
     "output_type": "stream",
     "text": [
      "c:\\Users\\Jerry Chen\\.conda\\envs\\ubc-ocean\\lib\\site-packages\\sklearn\\preprocessing\\_label.py:153: DataConversionWarning: A column-vector y was passed when a 1d array was expected. Please change the shape of y to (n_samples, ), for example using ravel().\n",
      "  y = column_or_1d(y, warn=True)\n"
     ]
    },
    {
     "name": "stdout",
     "output_type": "stream",
     "text": [
      "1/1 [==============================] - 1s 535ms/step\n",
      "1/1 [==============================] - 0s 469ms/step\n",
      "[1]\n",
      "lol\n"
     ]
    },
    {
     "name": "stderr",
     "output_type": "stream",
     "text": [
      "c:\\Users\\Jerry Chen\\.conda\\envs\\ubc-ocean\\lib\\site-packages\\sklearn\\preprocessing\\_label.py:153: DataConversionWarning: A column-vector y was passed when a 1d array was expected. Please change the shape of y to (n_samples, ), for example using ravel().\n",
      "  y = column_or_1d(y, warn=True)\n"
     ]
    },
    {
     "name": "stdout",
     "output_type": "stream",
     "text": [
      "1/1 [==============================] - 1s 533ms/step\n",
      "1/1 [==============================] - 1s 534ms/step\n",
      "[2]\n",
      "lol\n"
     ]
    },
    {
     "name": "stderr",
     "output_type": "stream",
     "text": [
      "c:\\Users\\Jerry Chen\\.conda\\envs\\ubc-ocean\\lib\\site-packages\\sklearn\\preprocessing\\_label.py:153: DataConversionWarning: A column-vector y was passed when a 1d array was expected. Please change the shape of y to (n_samples, ), for example using ravel().\n",
      "  y = column_or_1d(y, warn=True)\n"
     ]
    },
    {
     "name": "stdout",
     "output_type": "stream",
     "text": [
      "1/1 [==============================] - 0s 497ms/step\n",
      "1/1 [==============================] - 0s 449ms/step\n",
      "[0]\n",
      "lol\n"
     ]
    },
    {
     "name": "stderr",
     "output_type": "stream",
     "text": [
      "c:\\Users\\Jerry Chen\\.conda\\envs\\ubc-ocean\\lib\\site-packages\\sklearn\\preprocessing\\_label.py:153: DataConversionWarning: A column-vector y was passed when a 1d array was expected. Please change the shape of y to (n_samples, ), for example using ravel().\n",
      "  y = column_or_1d(y, warn=True)\n"
     ]
    },
    {
     "name": "stdout",
     "output_type": "stream",
     "text": [
      "1/1 [==============================] - 0s 476ms/step\n",
      "1/1 [==============================] - 0s 482ms/step\n",
      "[1]\n",
      "lol\n"
     ]
    },
    {
     "name": "stderr",
     "output_type": "stream",
     "text": [
      "c:\\Users\\Jerry Chen\\.conda\\envs\\ubc-ocean\\lib\\site-packages\\sklearn\\preprocessing\\_label.py:153: DataConversionWarning: A column-vector y was passed when a 1d array was expected. Please change the shape of y to (n_samples, ), for example using ravel().\n",
      "  y = column_or_1d(y, warn=True)\n"
     ]
    },
    {
     "name": "stdout",
     "output_type": "stream",
     "text": [
      "1/1 [==============================] - 1s 549ms/step\n",
      "1/1 [==============================] - 0s 461ms/step\n",
      "[1]\n",
      "lol\n"
     ]
    },
    {
     "name": "stderr",
     "output_type": "stream",
     "text": [
      "c:\\Users\\Jerry Chen\\.conda\\envs\\ubc-ocean\\lib\\site-packages\\sklearn\\preprocessing\\_label.py:153: DataConversionWarning: A column-vector y was passed when a 1d array was expected. Please change the shape of y to (n_samples, ), for example using ravel().\n",
      "  y = column_or_1d(y, warn=True)\n"
     ]
    },
    {
     "name": "stdout",
     "output_type": "stream",
     "text": [
      "1/1 [==============================] - 0s 480ms/step\n",
      "1/1 [==============================] - 1s 517ms/step\n",
      "[0]\n",
      "lol\n"
     ]
    },
    {
     "name": "stderr",
     "output_type": "stream",
     "text": [
      "c:\\Users\\Jerry Chen\\.conda\\envs\\ubc-ocean\\lib\\site-packages\\sklearn\\preprocessing\\_label.py:153: DataConversionWarning: A column-vector y was passed when a 1d array was expected. Please change the shape of y to (n_samples, ), for example using ravel().\n",
      "  y = column_or_1d(y, warn=True)\n"
     ]
    },
    {
     "name": "stdout",
     "output_type": "stream",
     "text": [
      "1/1 [==============================] - 0s 480ms/step\n",
      "1/1 [==============================] - 0s 466ms/step\n",
      "[2]\n",
      "lol\n"
     ]
    },
    {
     "name": "stderr",
     "output_type": "stream",
     "text": [
      "c:\\Users\\Jerry Chen\\.conda\\envs\\ubc-ocean\\lib\\site-packages\\sklearn\\preprocessing\\_label.py:153: DataConversionWarning: A column-vector y was passed when a 1d array was expected. Please change the shape of y to (n_samples, ), for example using ravel().\n",
      "  y = column_or_1d(y, warn=True)\n"
     ]
    },
    {
     "name": "stdout",
     "output_type": "stream",
     "text": [
      "1/1 [==============================] - 0s 478ms/step\n",
      "1/1 [==============================] - 0s 460ms/step\n",
      "[2]\n",
      "lol\n"
     ]
    },
    {
     "name": "stderr",
     "output_type": "stream",
     "text": [
      "c:\\Users\\Jerry Chen\\.conda\\envs\\ubc-ocean\\lib\\site-packages\\sklearn\\preprocessing\\_label.py:153: DataConversionWarning: A column-vector y was passed when a 1d array was expected. Please change the shape of y to (n_samples, ), for example using ravel().\n",
      "  y = column_or_1d(y, warn=True)\n"
     ]
    },
    {
     "name": "stdout",
     "output_type": "stream",
     "text": [
      "1/1 [==============================] - 0s 499ms/step\n",
      "1/1 [==============================] - 0s 452ms/step\n",
      "[2]\n",
      "lol\n"
     ]
    },
    {
     "name": "stderr",
     "output_type": "stream",
     "text": [
      "c:\\Users\\Jerry Chen\\.conda\\envs\\ubc-ocean\\lib\\site-packages\\sklearn\\preprocessing\\_label.py:153: DataConversionWarning: A column-vector y was passed when a 1d array was expected. Please change the shape of y to (n_samples, ), for example using ravel().\n",
      "  y = column_or_1d(y, warn=True)\n"
     ]
    },
    {
     "name": "stdout",
     "output_type": "stream",
     "text": [
      "1/1 [==============================] - 0s 482ms/step\n",
      "1/1 [==============================] - 0s 470ms/step\n",
      "[2]\n",
      "lol\n"
     ]
    },
    {
     "name": "stderr",
     "output_type": "stream",
     "text": [
      "c:\\Users\\Jerry Chen\\.conda\\envs\\ubc-ocean\\lib\\site-packages\\sklearn\\preprocessing\\_label.py:153: DataConversionWarning: A column-vector y was passed when a 1d array was expected. Please change the shape of y to (n_samples, ), for example using ravel().\n",
      "  y = column_or_1d(y, warn=True)\n"
     ]
    },
    {
     "name": "stdout",
     "output_type": "stream",
     "text": [
      "1/1 [==============================] - 0s 492ms/step\n",
      "1/1 [==============================] - 0s 465ms/step\n",
      "[1]\n",
      "lol\n"
     ]
    },
    {
     "name": "stderr",
     "output_type": "stream",
     "text": [
      "c:\\Users\\Jerry Chen\\.conda\\envs\\ubc-ocean\\lib\\site-packages\\sklearn\\preprocessing\\_label.py:153: DataConversionWarning: A column-vector y was passed when a 1d array was expected. Please change the shape of y to (n_samples, ), for example using ravel().\n",
      "  y = column_or_1d(y, warn=True)\n"
     ]
    },
    {
     "name": "stdout",
     "output_type": "stream",
     "text": [
      "1/1 [==============================] - 0s 477ms/step\n",
      "1/1 [==============================] - 0s 452ms/step\n",
      "[1]\n",
      "lol\n"
     ]
    },
    {
     "name": "stderr",
     "output_type": "stream",
     "text": [
      "c:\\Users\\Jerry Chen\\.conda\\envs\\ubc-ocean\\lib\\site-packages\\sklearn\\preprocessing\\_label.py:153: DataConversionWarning: A column-vector y was passed when a 1d array was expected. Please change the shape of y to (n_samples, ), for example using ravel().\n",
      "  y = column_or_1d(y, warn=True)\n"
     ]
    },
    {
     "name": "stdout",
     "output_type": "stream",
     "text": [
      "1/1 [==============================] - 0s 492ms/step\n",
      "1/1 [==============================] - 0s 482ms/step\n",
      "[2]\n",
      "lol\n"
     ]
    },
    {
     "name": "stderr",
     "output_type": "stream",
     "text": [
      "c:\\Users\\Jerry Chen\\.conda\\envs\\ubc-ocean\\lib\\site-packages\\sklearn\\preprocessing\\_label.py:153: DataConversionWarning: A column-vector y was passed when a 1d array was expected. Please change the shape of y to (n_samples, ), for example using ravel().\n",
      "  y = column_or_1d(y, warn=True)\n"
     ]
    },
    {
     "name": "stdout",
     "output_type": "stream",
     "text": [
      "1/1 [==============================] - 0s 497ms/step\n",
      "1/1 [==============================] - 1s 516ms/step\n",
      "[1]\n",
      "lol\n"
     ]
    },
    {
     "name": "stderr",
     "output_type": "stream",
     "text": [
      "c:\\Users\\Jerry Chen\\.conda\\envs\\ubc-ocean\\lib\\site-packages\\sklearn\\preprocessing\\_label.py:153: DataConversionWarning: A column-vector y was passed when a 1d array was expected. Please change the shape of y to (n_samples, ), for example using ravel().\n",
      "  y = column_or_1d(y, warn=True)\n"
     ]
    },
    {
     "name": "stdout",
     "output_type": "stream",
     "text": [
      "1/1 [==============================] - 1s 518ms/step\n",
      "1/1 [==============================] - 0s 437ms/step\n",
      "[0]\n",
      "lol\n"
     ]
    },
    {
     "name": "stderr",
     "output_type": "stream",
     "text": [
      "c:\\Users\\Jerry Chen\\.conda\\envs\\ubc-ocean\\lib\\site-packages\\sklearn\\preprocessing\\_label.py:153: DataConversionWarning: A column-vector y was passed when a 1d array was expected. Please change the shape of y to (n_samples, ), for example using ravel().\n",
      "  y = column_or_1d(y, warn=True)\n"
     ]
    },
    {
     "name": "stdout",
     "output_type": "stream",
     "text": [
      "1/1 [==============================] - 0s 494ms/step\n",
      "1/1 [==============================] - 0s 469ms/step\n",
      "[2]\n",
      "lol\n"
     ]
    },
    {
     "name": "stderr",
     "output_type": "stream",
     "text": [
      "c:\\Users\\Jerry Chen\\.conda\\envs\\ubc-ocean\\lib\\site-packages\\sklearn\\preprocessing\\_label.py:153: DataConversionWarning: A column-vector y was passed when a 1d array was expected. Please change the shape of y to (n_samples, ), for example using ravel().\n",
      "  y = column_or_1d(y, warn=True)\n"
     ]
    },
    {
     "name": "stdout",
     "output_type": "stream",
     "text": [
      "1/1 [==============================] - 0s 469ms/step\n",
      "1/1 [==============================] - 0s 467ms/step\n",
      "[0]\n",
      "lol\n"
     ]
    },
    {
     "name": "stderr",
     "output_type": "stream",
     "text": [
      "c:\\Users\\Jerry Chen\\.conda\\envs\\ubc-ocean\\lib\\site-packages\\sklearn\\preprocessing\\_label.py:153: DataConversionWarning: A column-vector y was passed when a 1d array was expected. Please change the shape of y to (n_samples, ), for example using ravel().\n",
      "  y = column_or_1d(y, warn=True)\n"
     ]
    },
    {
     "name": "stdout",
     "output_type": "stream",
     "text": [
      "1/1 [==============================] - 0s 480ms/step\n",
      "1/1 [==============================] - 0s 466ms/step\n",
      "[2]\n",
      "lol\n"
     ]
    },
    {
     "name": "stderr",
     "output_type": "stream",
     "text": [
      "c:\\Users\\Jerry Chen\\.conda\\envs\\ubc-ocean\\lib\\site-packages\\sklearn\\preprocessing\\_label.py:153: DataConversionWarning: A column-vector y was passed when a 1d array was expected. Please change the shape of y to (n_samples, ), for example using ravel().\n",
      "  y = column_or_1d(y, warn=True)\n"
     ]
    },
    {
     "name": "stdout",
     "output_type": "stream",
     "text": [
      "1/1 [==============================] - 0s 477ms/step\n",
      "1/1 [==============================] - 0s 467ms/step\n",
      "[3]\n",
      "lol\n"
     ]
    },
    {
     "name": "stderr",
     "output_type": "stream",
     "text": [
      "c:\\Users\\Jerry Chen\\.conda\\envs\\ubc-ocean\\lib\\site-packages\\sklearn\\preprocessing\\_label.py:153: DataConversionWarning: A column-vector y was passed when a 1d array was expected. Please change the shape of y to (n_samples, ), for example using ravel().\n",
      "  y = column_or_1d(y, warn=True)\n"
     ]
    },
    {
     "name": "stdout",
     "output_type": "stream",
     "text": [
      "1/1 [==============================] - 0s 468ms/step\n",
      "1/1 [==============================] - 0s 467ms/step\n",
      "[0]\n",
      "lol\n"
     ]
    },
    {
     "name": "stderr",
     "output_type": "stream",
     "text": [
      "c:\\Users\\Jerry Chen\\.conda\\envs\\ubc-ocean\\lib\\site-packages\\sklearn\\preprocessing\\_label.py:153: DataConversionWarning: A column-vector y was passed when a 1d array was expected. Please change the shape of y to (n_samples, ), for example using ravel().\n",
      "  y = column_or_1d(y, warn=True)\n"
     ]
    },
    {
     "name": "stdout",
     "output_type": "stream",
     "text": [
      "1/1 [==============================] - 0s 484ms/step\n",
      "1/1 [==============================] - 0s 451ms/step\n",
      "[2]\n",
      "lol\n"
     ]
    },
    {
     "name": "stderr",
     "output_type": "stream",
     "text": [
      "c:\\Users\\Jerry Chen\\.conda\\envs\\ubc-ocean\\lib\\site-packages\\sklearn\\preprocessing\\_label.py:153: DataConversionWarning: A column-vector y was passed when a 1d array was expected. Please change the shape of y to (n_samples, ), for example using ravel().\n",
      "  y = column_or_1d(y, warn=True)\n"
     ]
    },
    {
     "name": "stdout",
     "output_type": "stream",
     "text": [
      "1/1 [==============================] - 1s 595ms/step\n",
      "1/1 [==============================] - 0s 484ms/step\n",
      "[0]\n",
      "lol\n"
     ]
    },
    {
     "name": "stderr",
     "output_type": "stream",
     "text": [
      "c:\\Users\\Jerry Chen\\.conda\\envs\\ubc-ocean\\lib\\site-packages\\sklearn\\preprocessing\\_label.py:153: DataConversionWarning: A column-vector y was passed when a 1d array was expected. Please change the shape of y to (n_samples, ), for example using ravel().\n",
      "  y = column_or_1d(y, warn=True)\n"
     ]
    },
    {
     "name": "stdout",
     "output_type": "stream",
     "text": [
      "1/1 [==============================] - 1s 501ms/step\n",
      "1/1 [==============================] - 0s 467ms/step\n",
      "[2]\n",
      "lol\n"
     ]
    },
    {
     "name": "stderr",
     "output_type": "stream",
     "text": [
      "c:\\Users\\Jerry Chen\\.conda\\envs\\ubc-ocean\\lib\\site-packages\\sklearn\\preprocessing\\_label.py:153: DataConversionWarning: A column-vector y was passed when a 1d array was expected. Please change the shape of y to (n_samples, ), for example using ravel().\n",
      "  y = column_or_1d(y, warn=True)\n"
     ]
    },
    {
     "name": "stdout",
     "output_type": "stream",
     "text": [
      "1/1 [==============================] - 0s 468ms/step\n",
      "1/1 [==============================] - 0s 467ms/step\n",
      "[1]\n",
      "lol\n"
     ]
    },
    {
     "name": "stderr",
     "output_type": "stream",
     "text": [
      "c:\\Users\\Jerry Chen\\.conda\\envs\\ubc-ocean\\lib\\site-packages\\sklearn\\preprocessing\\_label.py:153: DataConversionWarning: A column-vector y was passed when a 1d array was expected. Please change the shape of y to (n_samples, ), for example using ravel().\n",
      "  y = column_or_1d(y, warn=True)\n"
     ]
    },
    {
     "name": "stdout",
     "output_type": "stream",
     "text": [
      "1/1 [==============================] - 1s 501ms/step\n",
      "1/1 [==============================] - 0s 462ms/step\n",
      "[0]\n",
      "lol\n"
     ]
    },
    {
     "name": "stderr",
     "output_type": "stream",
     "text": [
      "c:\\Users\\Jerry Chen\\.conda\\envs\\ubc-ocean\\lib\\site-packages\\sklearn\\preprocessing\\_label.py:153: DataConversionWarning: A column-vector y was passed when a 1d array was expected. Please change the shape of y to (n_samples, ), for example using ravel().\n",
      "  y = column_or_1d(y, warn=True)\n"
     ]
    },
    {
     "name": "stdout",
     "output_type": "stream",
     "text": [
      "1/1 [==============================] - 0s 484ms/step\n",
      "1/1 [==============================] - 0s 451ms/step\n",
      "[4]\n",
      "lol\n"
     ]
    },
    {
     "name": "stderr",
     "output_type": "stream",
     "text": [
      "c:\\Users\\Jerry Chen\\.conda\\envs\\ubc-ocean\\lib\\site-packages\\sklearn\\preprocessing\\_label.py:153: DataConversionWarning: A column-vector y was passed when a 1d array was expected. Please change the shape of y to (n_samples, ), for example using ravel().\n",
      "  y = column_or_1d(y, warn=True)\n"
     ]
    },
    {
     "name": "stdout",
     "output_type": "stream",
     "text": [
      "1/1 [==============================] - 1s 500ms/step\n",
      "1/1 [==============================] - 0s 467ms/step\n",
      "[1]\n",
      "lol\n"
     ]
    },
    {
     "name": "stderr",
     "output_type": "stream",
     "text": [
      "c:\\Users\\Jerry Chen\\.conda\\envs\\ubc-ocean\\lib\\site-packages\\sklearn\\preprocessing\\_label.py:153: DataConversionWarning: A column-vector y was passed when a 1d array was expected. Please change the shape of y to (n_samples, ), for example using ravel().\n",
      "  y = column_or_1d(y, warn=True)\n"
     ]
    },
    {
     "name": "stdout",
     "output_type": "stream",
     "text": [
      "1/1 [==============================] - 0s 484ms/step\n",
      "1/1 [==============================] - 0s 447ms/step\n",
      "[4]\n",
      "lol\n"
     ]
    },
    {
     "name": "stderr",
     "output_type": "stream",
     "text": [
      "c:\\Users\\Jerry Chen\\.conda\\envs\\ubc-ocean\\lib\\site-packages\\sklearn\\preprocessing\\_label.py:153: DataConversionWarning: A column-vector y was passed when a 1d array was expected. Please change the shape of y to (n_samples, ), for example using ravel().\n",
      "  y = column_or_1d(y, warn=True)\n"
     ]
    },
    {
     "name": "stdout",
     "output_type": "stream",
     "text": [
      "1/1 [==============================] - 0s 483ms/step\n",
      "1/1 [==============================] - 0s 434ms/step\n",
      "[0]\n",
      "lol\n"
     ]
    },
    {
     "name": "stderr",
     "output_type": "stream",
     "text": [
      "c:\\Users\\Jerry Chen\\.conda\\envs\\ubc-ocean\\lib\\site-packages\\sklearn\\preprocessing\\_label.py:153: DataConversionWarning: A column-vector y was passed when a 1d array was expected. Please change the shape of y to (n_samples, ), for example using ravel().\n",
      "  y = column_or_1d(y, warn=True)\n"
     ]
    },
    {
     "name": "stdout",
     "output_type": "stream",
     "text": [
      "1/1 [==============================] - 0s 483ms/step\n",
      "1/1 [==============================] - 0s 467ms/step\n",
      "[2]\n",
      "lol\n"
     ]
    },
    {
     "name": "stderr",
     "output_type": "stream",
     "text": [
      "c:\\Users\\Jerry Chen\\.conda\\envs\\ubc-ocean\\lib\\site-packages\\sklearn\\preprocessing\\_label.py:153: DataConversionWarning: A column-vector y was passed when a 1d array was expected. Please change the shape of y to (n_samples, ), for example using ravel().\n",
      "  y = column_or_1d(y, warn=True)\n"
     ]
    },
    {
     "name": "stdout",
     "output_type": "stream",
     "text": [
      "1/1 [==============================] - 0s 484ms/step\n",
      "1/1 [==============================] - 0s 467ms/step\n",
      "[2]\n",
      "lol\n"
     ]
    },
    {
     "name": "stderr",
     "output_type": "stream",
     "text": [
      "c:\\Users\\Jerry Chen\\.conda\\envs\\ubc-ocean\\lib\\site-packages\\sklearn\\preprocessing\\_label.py:153: DataConversionWarning: A column-vector y was passed when a 1d array was expected. Please change the shape of y to (n_samples, ), for example using ravel().\n",
      "  y = column_or_1d(y, warn=True)\n"
     ]
    },
    {
     "name": "stdout",
     "output_type": "stream",
     "text": [
      "1/1 [==============================] - 0s 484ms/step\n",
      "1/1 [==============================] - 0s 484ms/step\n",
      "[2]\n",
      "lol\n"
     ]
    },
    {
     "name": "stderr",
     "output_type": "stream",
     "text": [
      "c:\\Users\\Jerry Chen\\.conda\\envs\\ubc-ocean\\lib\\site-packages\\sklearn\\preprocessing\\_label.py:153: DataConversionWarning: A column-vector y was passed when a 1d array was expected. Please change the shape of y to (n_samples, ), for example using ravel().\n",
      "  y = column_or_1d(y, warn=True)\n"
     ]
    },
    {
     "name": "stdout",
     "output_type": "stream",
     "text": [
      "1/1 [==============================] - 1s 500ms/step\n",
      "1/1 [==============================] - 0s 477ms/step\n",
      "[0]\n",
      "lol\n"
     ]
    },
    {
     "name": "stderr",
     "output_type": "stream",
     "text": [
      "c:\\Users\\Jerry Chen\\.conda\\envs\\ubc-ocean\\lib\\site-packages\\sklearn\\preprocessing\\_label.py:153: DataConversionWarning: A column-vector y was passed when a 1d array was expected. Please change the shape of y to (n_samples, ), for example using ravel().\n",
      "  y = column_or_1d(y, warn=True)\n"
     ]
    },
    {
     "name": "stdout",
     "output_type": "stream",
     "text": [
      "1/1 [==============================] - 0s 484ms/step\n",
      "1/1 [==============================] - 0s 450ms/step\n",
      "[2]\n",
      "lol\n"
     ]
    },
    {
     "name": "stderr",
     "output_type": "stream",
     "text": [
      "c:\\Users\\Jerry Chen\\.conda\\envs\\ubc-ocean\\lib\\site-packages\\sklearn\\preprocessing\\_label.py:153: DataConversionWarning: A column-vector y was passed when a 1d array was expected. Please change the shape of y to (n_samples, ), for example using ravel().\n",
      "  y = column_or_1d(y, warn=True)\n"
     ]
    },
    {
     "name": "stdout",
     "output_type": "stream",
     "text": [
      "1/1 [==============================] - 1s 517ms/step\n",
      "1/1 [==============================] - 0s 467ms/step\n",
      "[0]\n",
      "lol\n"
     ]
    },
    {
     "name": "stderr",
     "output_type": "stream",
     "text": [
      "c:\\Users\\Jerry Chen\\.conda\\envs\\ubc-ocean\\lib\\site-packages\\sklearn\\preprocessing\\_label.py:153: DataConversionWarning: A column-vector y was passed when a 1d array was expected. Please change the shape of y to (n_samples, ), for example using ravel().\n",
      "  y = column_or_1d(y, warn=True)\n"
     ]
    },
    {
     "name": "stdout",
     "output_type": "stream",
     "text": [
      "1/1 [==============================] - 0s 484ms/step\n",
      "1/1 [==============================] - 1s 517ms/step\n",
      "[2]\n",
      "lol\n"
     ]
    },
    {
     "name": "stderr",
     "output_type": "stream",
     "text": [
      "c:\\Users\\Jerry Chen\\.conda\\envs\\ubc-ocean\\lib\\site-packages\\sklearn\\preprocessing\\_label.py:153: DataConversionWarning: A column-vector y was passed when a 1d array was expected. Please change the shape of y to (n_samples, ), for example using ravel().\n",
      "  y = column_or_1d(y, warn=True)\n"
     ]
    },
    {
     "name": "stdout",
     "output_type": "stream",
     "text": [
      "1/1 [==============================] - 1s 550ms/step\n",
      "1/1 [==============================] - 1s 534ms/step\n",
      "[1]\n",
      "lol\n"
     ]
    },
    {
     "name": "stderr",
     "output_type": "stream",
     "text": [
      "c:\\Users\\Jerry Chen\\.conda\\envs\\ubc-ocean\\lib\\site-packages\\sklearn\\preprocessing\\_label.py:153: DataConversionWarning: A column-vector y was passed when a 1d array was expected. Please change the shape of y to (n_samples, ), for example using ravel().\n",
      "  y = column_or_1d(y, warn=True)\n"
     ]
    },
    {
     "name": "stdout",
     "output_type": "stream",
     "text": [
      "1/1 [==============================] - 1s 550ms/step\n",
      "1/1 [==============================] - 1s 550ms/step\n",
      "[2]\n",
      "lol\n"
     ]
    },
    {
     "name": "stderr",
     "output_type": "stream",
     "text": [
      "c:\\Users\\Jerry Chen\\.conda\\envs\\ubc-ocean\\lib\\site-packages\\sklearn\\preprocessing\\_label.py:153: DataConversionWarning: A column-vector y was passed when a 1d array was expected. Please change the shape of y to (n_samples, ), for example using ravel().\n",
      "  y = column_or_1d(y, warn=True)\n"
     ]
    },
    {
     "name": "stdout",
     "output_type": "stream",
     "text": [
      "1/1 [==============================] - 1s 517ms/step\n",
      "1/1 [==============================] - 1s 501ms/step\n",
      "[2]\n",
      "lol\n"
     ]
    },
    {
     "name": "stderr",
     "output_type": "stream",
     "text": [
      "c:\\Users\\Jerry Chen\\.conda\\envs\\ubc-ocean\\lib\\site-packages\\sklearn\\preprocessing\\_label.py:153: DataConversionWarning: A column-vector y was passed when a 1d array was expected. Please change the shape of y to (n_samples, ), for example using ravel().\n",
      "  y = column_or_1d(y, warn=True)\n"
     ]
    },
    {
     "name": "stdout",
     "output_type": "stream",
     "text": [
      "1/1 [==============================] - 1s 503ms/step\n",
      "1/1 [==============================] - 1s 502ms/step\n",
      "[0]\n",
      "lol\n"
     ]
    },
    {
     "name": "stderr",
     "output_type": "stream",
     "text": [
      "c:\\Users\\Jerry Chen\\.conda\\envs\\ubc-ocean\\lib\\site-packages\\sklearn\\preprocessing\\_label.py:153: DataConversionWarning: A column-vector y was passed when a 1d array was expected. Please change the shape of y to (n_samples, ), for example using ravel().\n",
      "  y = column_or_1d(y, warn=True)\n"
     ]
    },
    {
     "name": "stdout",
     "output_type": "stream",
     "text": [
      "1/1 [==============================] - 1s 509ms/step\n",
      "1/1 [==============================] - 1s 501ms/step\n",
      "[0]\n",
      "lol\n"
     ]
    },
    {
     "name": "stderr",
     "output_type": "stream",
     "text": [
      "c:\\Users\\Jerry Chen\\.conda\\envs\\ubc-ocean\\lib\\site-packages\\sklearn\\preprocessing\\_label.py:153: DataConversionWarning: A column-vector y was passed when a 1d array was expected. Please change the shape of y to (n_samples, ), for example using ravel().\n",
      "  y = column_or_1d(y, warn=True)\n"
     ]
    },
    {
     "name": "stdout",
     "output_type": "stream",
     "text": [
      "1/1 [==============================] - 1s 540ms/step\n",
      "1/1 [==============================] - 0s 480ms/step\n",
      "[1]\n",
      "lol\n"
     ]
    },
    {
     "name": "stderr",
     "output_type": "stream",
     "text": [
      "c:\\Users\\Jerry Chen\\.conda\\envs\\ubc-ocean\\lib\\site-packages\\sklearn\\preprocessing\\_label.py:153: DataConversionWarning: A column-vector y was passed when a 1d array was expected. Please change the shape of y to (n_samples, ), for example using ravel().\n",
      "  y = column_or_1d(y, warn=True)\n"
     ]
    },
    {
     "name": "stdout",
     "output_type": "stream",
     "text": [
      "1/1 [==============================] - 1s 507ms/step\n",
      "1/1 [==============================] - 0s 471ms/step\n",
      "[1]\n",
      "lol\n"
     ]
    },
    {
     "name": "stderr",
     "output_type": "stream",
     "text": [
      "c:\\Users\\Jerry Chen\\.conda\\envs\\ubc-ocean\\lib\\site-packages\\sklearn\\preprocessing\\_label.py:153: DataConversionWarning: A column-vector y was passed when a 1d array was expected. Please change the shape of y to (n_samples, ), for example using ravel().\n",
      "  y = column_or_1d(y, warn=True)\n"
     ]
    },
    {
     "name": "stdout",
     "output_type": "stream",
     "text": [
      "1/1 [==============================] - 1s 515ms/step\n",
      "1/1 [==============================] - 0s 458ms/step\n",
      "[3]\n",
      "lol\n"
     ]
    },
    {
     "name": "stderr",
     "output_type": "stream",
     "text": [
      "c:\\Users\\Jerry Chen\\.conda\\envs\\ubc-ocean\\lib\\site-packages\\sklearn\\preprocessing\\_label.py:153: DataConversionWarning: A column-vector y was passed when a 1d array was expected. Please change the shape of y to (n_samples, ), for example using ravel().\n",
      "  y = column_or_1d(y, warn=True)\n"
     ]
    },
    {
     "name": "stdout",
     "output_type": "stream",
     "text": [
      "1/1 [==============================] - 0s 490ms/step\n",
      "1/1 [==============================] - 0s 472ms/step\n",
      "[1]\n",
      "lol\n"
     ]
    },
    {
     "name": "stderr",
     "output_type": "stream",
     "text": [
      "c:\\Users\\Jerry Chen\\.conda\\envs\\ubc-ocean\\lib\\site-packages\\sklearn\\preprocessing\\_label.py:153: DataConversionWarning: A column-vector y was passed when a 1d array was expected. Please change the shape of y to (n_samples, ), for example using ravel().\n",
      "  y = column_or_1d(y, warn=True)\n"
     ]
    },
    {
     "name": "stdout",
     "output_type": "stream",
     "text": [
      "1/1 [==============================] - 1s 501ms/step\n",
      "1/1 [==============================] - 1s 527ms/step\n",
      "[2]\n",
      "lol\n"
     ]
    },
    {
     "name": "stderr",
     "output_type": "stream",
     "text": [
      "c:\\Users\\Jerry Chen\\.conda\\envs\\ubc-ocean\\lib\\site-packages\\sklearn\\preprocessing\\_label.py:153: DataConversionWarning: A column-vector y was passed when a 1d array was expected. Please change the shape of y to (n_samples, ), for example using ravel().\n",
      "  y = column_or_1d(y, warn=True)\n"
     ]
    },
    {
     "name": "stdout",
     "output_type": "stream",
     "text": [
      "1/1 [==============================] - 1s 527ms/step\n",
      "1/1 [==============================] - 0s 488ms/step\n",
      "[4]\n",
      "lol\n"
     ]
    },
    {
     "name": "stderr",
     "output_type": "stream",
     "text": [
      "c:\\Users\\Jerry Chen\\.conda\\envs\\ubc-ocean\\lib\\site-packages\\sklearn\\preprocessing\\_label.py:153: DataConversionWarning: A column-vector y was passed when a 1d array was expected. Please change the shape of y to (n_samples, ), for example using ravel().\n",
      "  y = column_or_1d(y, warn=True)\n"
     ]
    },
    {
     "name": "stdout",
     "output_type": "stream",
     "text": [
      "1/1 [==============================] - 0s 465ms/step\n",
      "1/1 [==============================] - 0s 467ms/step\n",
      "[2]\n",
      "lol\n"
     ]
    },
    {
     "name": "stderr",
     "output_type": "stream",
     "text": [
      "c:\\Users\\Jerry Chen\\.conda\\envs\\ubc-ocean\\lib\\site-packages\\sklearn\\preprocessing\\_label.py:153: DataConversionWarning: A column-vector y was passed when a 1d array was expected. Please change the shape of y to (n_samples, ), for example using ravel().\n",
      "  y = column_or_1d(y, warn=True)\n"
     ]
    },
    {
     "name": "stdout",
     "output_type": "stream",
     "text": [
      "1/1 [==============================] - 0s 481ms/step\n",
      "1/1 [==============================] - 0s 467ms/step\n",
      "[2]\n",
      "lol\n"
     ]
    },
    {
     "name": "stderr",
     "output_type": "stream",
     "text": [
      "c:\\Users\\Jerry Chen\\.conda\\envs\\ubc-ocean\\lib\\site-packages\\sklearn\\preprocessing\\_label.py:153: DataConversionWarning: A column-vector y was passed when a 1d array was expected. Please change the shape of y to (n_samples, ), for example using ravel().\n",
      "  y = column_or_1d(y, warn=True)\n"
     ]
    },
    {
     "name": "stdout",
     "output_type": "stream",
     "text": [
      "1/1 [==============================] - 1s 507ms/step\n",
      "1/1 [==============================] - 0s 460ms/step\n",
      "[2]\n",
      "lol\n"
     ]
    },
    {
     "name": "stderr",
     "output_type": "stream",
     "text": [
      "c:\\Users\\Jerry Chen\\.conda\\envs\\ubc-ocean\\lib\\site-packages\\sklearn\\preprocessing\\_label.py:153: DataConversionWarning: A column-vector y was passed when a 1d array was expected. Please change the shape of y to (n_samples, ), for example using ravel().\n",
      "  y = column_or_1d(y, warn=True)\n"
     ]
    },
    {
     "name": "stdout",
     "output_type": "stream",
     "text": [
      "1/1 [==============================] - 0s 490ms/step\n",
      "1/1 [==============================] - 1s 500ms/step\n",
      "[2]\n",
      "lol\n"
     ]
    },
    {
     "name": "stderr",
     "output_type": "stream",
     "text": [
      "c:\\Users\\Jerry Chen\\.conda\\envs\\ubc-ocean\\lib\\site-packages\\sklearn\\preprocessing\\_label.py:153: DataConversionWarning: A column-vector y was passed when a 1d array was expected. Please change the shape of y to (n_samples, ), for example using ravel().\n",
      "  y = column_or_1d(y, warn=True)\n"
     ]
    },
    {
     "name": "stdout",
     "output_type": "stream",
     "text": [
      "1/1 [==============================] - 1s 512ms/step\n",
      "1/1 [==============================] - 1s 518ms/step\n",
      "[2]\n",
      "lol\n"
     ]
    },
    {
     "name": "stderr",
     "output_type": "stream",
     "text": [
      "c:\\Users\\Jerry Chen\\.conda\\envs\\ubc-ocean\\lib\\site-packages\\sklearn\\preprocessing\\_label.py:153: DataConversionWarning: A column-vector y was passed when a 1d array was expected. Please change the shape of y to (n_samples, ), for example using ravel().\n",
      "  y = column_or_1d(y, warn=True)\n"
     ]
    },
    {
     "name": "stdout",
     "output_type": "stream",
     "text": [
      "1/1 [==============================] - 1s 513ms/step\n",
      "1/1 [==============================] - 1s 517ms/step\n",
      "[1]\n",
      "lol\n"
     ]
    },
    {
     "name": "stderr",
     "output_type": "stream",
     "text": [
      "c:\\Users\\Jerry Chen\\.conda\\envs\\ubc-ocean\\lib\\site-packages\\sklearn\\preprocessing\\_label.py:153: DataConversionWarning: A column-vector y was passed when a 1d array was expected. Please change the shape of y to (n_samples, ), for example using ravel().\n",
      "  y = column_or_1d(y, warn=True)\n"
     ]
    },
    {
     "name": "stdout",
     "output_type": "stream",
     "text": [
      "1/1 [==============================] - 1s 518ms/step\n",
      "1/1 [==============================] - 1s 569ms/step\n",
      "[3]\n",
      "lol\n"
     ]
    },
    {
     "name": "stderr",
     "output_type": "stream",
     "text": [
      "c:\\Users\\Jerry Chen\\.conda\\envs\\ubc-ocean\\lib\\site-packages\\sklearn\\preprocessing\\_label.py:153: DataConversionWarning: A column-vector y was passed when a 1d array was expected. Please change the shape of y to (n_samples, ), for example using ravel().\n",
      "  y = column_or_1d(y, warn=True)\n"
     ]
    },
    {
     "name": "stdout",
     "output_type": "stream",
     "text": [
      "1/1 [==============================] - 1s 553ms/step\n",
      "1/1 [==============================] - 1s 510ms/step\n",
      "[2]\n",
      "lol\n"
     ]
    },
    {
     "name": "stderr",
     "output_type": "stream",
     "text": [
      "c:\\Users\\Jerry Chen\\.conda\\envs\\ubc-ocean\\lib\\site-packages\\sklearn\\preprocessing\\_label.py:153: DataConversionWarning: A column-vector y was passed when a 1d array was expected. Please change the shape of y to (n_samples, ), for example using ravel().\n",
      "  y = column_or_1d(y, warn=True)\n"
     ]
    },
    {
     "name": "stdout",
     "output_type": "stream",
     "text": [
      "1/1 [==============================] - 1s 517ms/step\n",
      "1/1 [==============================] - 0s 475ms/step\n",
      "[2]\n",
      "lol\n"
     ]
    },
    {
     "name": "stderr",
     "output_type": "stream",
     "text": [
      "c:\\Users\\Jerry Chen\\.conda\\envs\\ubc-ocean\\lib\\site-packages\\sklearn\\preprocessing\\_label.py:153: DataConversionWarning: A column-vector y was passed when a 1d array was expected. Please change the shape of y to (n_samples, ), for example using ravel().\n",
      "  y = column_or_1d(y, warn=True)\n"
     ]
    },
    {
     "name": "stdout",
     "output_type": "stream",
     "text": [
      "1/1 [==============================] - 0s 468ms/step\n",
      "1/1 [==============================] - 1s 504ms/step\n",
      "[1]\n",
      "lol\n"
     ]
    },
    {
     "name": "stderr",
     "output_type": "stream",
     "text": [
      "c:\\Users\\Jerry Chen\\.conda\\envs\\ubc-ocean\\lib\\site-packages\\sklearn\\preprocessing\\_label.py:153: DataConversionWarning: A column-vector y was passed when a 1d array was expected. Please change the shape of y to (n_samples, ), for example using ravel().\n",
      "  y = column_or_1d(y, warn=True)\n"
     ]
    },
    {
     "name": "stdout",
     "output_type": "stream",
     "text": [
      "1/1 [==============================] - 0s 468ms/step\n",
      "1/1 [==============================] - 0s 466ms/step\n",
      "[2]\n",
      "lol\n"
     ]
    },
    {
     "name": "stderr",
     "output_type": "stream",
     "text": [
      "c:\\Users\\Jerry Chen\\.conda\\envs\\ubc-ocean\\lib\\site-packages\\sklearn\\preprocessing\\_label.py:153: DataConversionWarning: A column-vector y was passed when a 1d array was expected. Please change the shape of y to (n_samples, ), for example using ravel().\n",
      "  y = column_or_1d(y, warn=True)\n"
     ]
    },
    {
     "name": "stdout",
     "output_type": "stream",
     "text": [
      "1/1 [==============================] - 0s 481ms/step\n",
      "1/1 [==============================] - 1s 524ms/step\n",
      "[3]\n",
      "lol\n"
     ]
    },
    {
     "name": "stderr",
     "output_type": "stream",
     "text": [
      "c:\\Users\\Jerry Chen\\.conda\\envs\\ubc-ocean\\lib\\site-packages\\sklearn\\preprocessing\\_label.py:153: DataConversionWarning: A column-vector y was passed when a 1d array was expected. Please change the shape of y to (n_samples, ), for example using ravel().\n",
      "  y = column_or_1d(y, warn=True)\n"
     ]
    },
    {
     "name": "stdout",
     "output_type": "stream",
     "text": [
      "1/1 [==============================] - 1s 539ms/step\n",
      "1/1 [==============================] - 1s 538ms/step\n",
      "[1]\n",
      "lol\n"
     ]
    },
    {
     "name": "stderr",
     "output_type": "stream",
     "text": [
      "c:\\Users\\Jerry Chen\\.conda\\envs\\ubc-ocean\\lib\\site-packages\\sklearn\\preprocessing\\_label.py:153: DataConversionWarning: A column-vector y was passed when a 1d array was expected. Please change the shape of y to (n_samples, ), for example using ravel().\n",
      "  y = column_or_1d(y, warn=True)\n"
     ]
    },
    {
     "name": "stdout",
     "output_type": "stream",
     "text": [
      "1/1 [==============================] - 1s 520ms/step\n",
      "1/1 [==============================] - 0s 482ms/step\n",
      "[1]\n",
      "lol\n"
     ]
    },
    {
     "name": "stderr",
     "output_type": "stream",
     "text": [
      "c:\\Users\\Jerry Chen\\.conda\\envs\\ubc-ocean\\lib\\site-packages\\sklearn\\preprocessing\\_label.py:153: DataConversionWarning: A column-vector y was passed when a 1d array was expected. Please change the shape of y to (n_samples, ), for example using ravel().\n",
      "  y = column_or_1d(y, warn=True)\n"
     ]
    },
    {
     "name": "stdout",
     "output_type": "stream",
     "text": [
      "1/1 [==============================] - 0s 480ms/step\n",
      "1/1 [==============================] - 0s 462ms/step\n",
      "[2]\n",
      "lol\n"
     ]
    },
    {
     "name": "stderr",
     "output_type": "stream",
     "text": [
      "c:\\Users\\Jerry Chen\\.conda\\envs\\ubc-ocean\\lib\\site-packages\\sklearn\\preprocessing\\_label.py:153: DataConversionWarning: A column-vector y was passed when a 1d array was expected. Please change the shape of y to (n_samples, ), for example using ravel().\n",
      "  y = column_or_1d(y, warn=True)\n"
     ]
    },
    {
     "name": "stdout",
     "output_type": "stream",
     "text": [
      "1/1 [==============================] - 0s 493ms/step\n",
      "1/1 [==============================] - 1s 550ms/step\n",
      "[1]\n",
      "lol\n"
     ]
    },
    {
     "name": "stderr",
     "output_type": "stream",
     "text": [
      "c:\\Users\\Jerry Chen\\.conda\\envs\\ubc-ocean\\lib\\site-packages\\sklearn\\preprocessing\\_label.py:153: DataConversionWarning: A column-vector y was passed when a 1d array was expected. Please change the shape of y to (n_samples, ), for example using ravel().\n",
      "  y = column_or_1d(y, warn=True)\n"
     ]
    },
    {
     "name": "stdout",
     "output_type": "stream",
     "text": [
      "1/1 [==============================] - 0s 483ms/step\n",
      "Validation Accuracy: 0.3786407766990291\n"
     ]
    }
   ],
   "source": [
    "validation_accuracy = evaluate_on_validation_data(val_image_paths, val_true_labels, model_multi, binary_models, label_encoder)\n",
    "print(\"Validation Accuracy:\", validation_accuracy)"
   ]
  },
  {
   "cell_type": "markdown",
   "metadata": {},
   "source": [
    "Visualization stuff"
   ]
  },
  {
   "cell_type": "code",
   "execution_count": 117,
   "metadata": {},
   "outputs": [
    {
     "name": "stdout",
     "output_type": "stream",
     "text": [
      "[<keras.callbacks.History object at 0x00000135435954E0>, <keras.callbacks.History object at 0x00000136986A7BB0>, <keras.callbacks.History object at 0x00000135090181F0>, <keras.callbacks.History object at 0x00000136A3FDC2E0>, <keras.callbacks.History object at 0x00000136999F69E0>, <keras.callbacks.History object at 0x000001371EBB69E0>]\n"
     ]
    }
   ],
   "source": []
  },
  {
   "cell_type": "code",
   "execution_count": 118,
   "metadata": {},
   "outputs": [
    {
     "data": {
      "image/png": "[encoded data removed]",
      "text/plain": [
       "<Figure size 1200x800 with 1 Axes>"
      ]
     },
     "metadata": {},
     "output_type": "display_data"
    }
   ],
   "source": [
    "def plot_validation_error(histories, model_names):\n",
    "    plt.figure(figsize=(12, 8))\n",
    "\n",
    "    for history, name in zip(histories, model_names):\n",
    "        val_loss = history.history['val_loss']\n",
    "        plt.plot(val_loss, label=f'Validation Loss - {name}')\n",
    "\n",
    "    plt.title('Validation Loss Over Epochs')\n",
    "    plt.xlabel('Epochs')\n",
    "    plt.ylabel('Loss')\n",
    "    plt.legend()\n",
    "    plt.show()\n",
    "\n",
    "plot_validation_error(histories, ['Multi-Class', 'Binary HGSC', 'Binary LGSC', 'Binary CC', 'Binary EC', 'Binary MC'])"
   ]
  },
  {
   "cell_type": "code",
   "execution_count": 121,
   "metadata": {},
   "outputs": [
    {
     "data": {
      "image/png": "[encoded data removed]",
      "text/plain": [
       "<Figure size 1200x800 with 1 Axes>"
      ]
     },
     "metadata": {},
     "output_type": "display_data"
    }
   ],
   "source": [
    "def plot_validation_acc(histories, model_names):\n",
    "    plt.figure(figsize=(12, 8))\n",
    "\n",
    "    for history, name in zip(histories, model_names):\n",
    "        val_loss = history.history['val_accuracy']\n",
    "        plt.plot(val_loss, label=f'Validation Accuracy - {name}')\n",
    "\n",
    "    plt.title('Validation Accuracy Over Epochs')\n",
    "    plt.xlabel('Epochs')\n",
    "    plt.ylabel('Accuracy (%)')\n",
    "    plt.legend()\n",
    "    plt.show()\n",
    "\n",
    "plot_validation_acc(histories, ['Multi-Class', 'Binary HGSC', 'Binary LGSC', 'Binary CC', 'Binary EC', 'Binary MC'])"
   ]
  },
  {
   "cell_type": "code",
   "execution_count": 122,
   "metadata": {},
   "outputs": [
    {
     "data": {
      "image/png": "[encoded data removed]",
      "text/plain": [
       "<Figure size 1200x800 with 1 Axes>"
      ]
     },
     "metadata": {},
     "output_type": "display_data"
    }
   ],
   "source": [
    "def plot_training_acc(histories, model_names):\n",
    "    plt.figure(figsize=(12, 8))\n",
    "\n",
    "    for history, name in zip(histories, model_names):\n",
    "        val_loss = history.history['accuracy']\n",
    "        plt.plot(val_loss, label=f'Training Accuracy - {name}')\n",
    "\n",
    "    plt.title('Training Accuracy Over Epochs')\n",
    "    plt.xlabel('Epochs')\n",
    "    plt.ylabel('Accuracy (%)')\n",
    "    plt.legend()\n",
    "    plt.show()\n",
    "\n",
    "plot_training_acc(histories, ['Multi-Class', 'Binary HGSC', 'Binary LGSC', 'Binary CC', 'Binary EC', 'Binary MC'])"
   ]
  },
  {
   "cell_type": "markdown",
   "metadata": {},
   "source": []
  },
  {
   "cell_type": "code",
   "execution_count": null,
   "metadata": {},
   "outputs": [],
   "source": []
  },
  {
   "cell_type": "markdown",
   "metadata": {},
   "source": []
  }
 ],
 "metadata": {
  "kernelspec": {
   "display_name": "ubc-ocean",
   "language": "python",
   "name": "python3"
  },
  "language_info": {
   "codemirror_mode": {
    "name": "ipython",
    "version": 3
   },
   "file_extension": ".py",
   "mimetype": "text/x-python",
   "name": "python",
   "nbconvert_exporter": "python",
   "pygments_lexer": "ipython3",
   "version": "3.10.13"
  }
 },
 "nbformat": 4,
 "nbformat_minor": 2
}
